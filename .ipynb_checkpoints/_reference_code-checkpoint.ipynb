{
 "cells": [
  {
   "cell_type": "code",
   "execution_count": 68,
   "metadata": {},
   "outputs": [
    {
     "data": {
      "text/html": [
       "<div>\n",
       "<style scoped>\n",
       "    .dataframe tbody tr th:only-of-type {\n",
       "        vertical-align: middle;\n",
       "    }\n",
       "\n",
       "    .dataframe tbody tr th {\n",
       "        vertical-align: top;\n",
       "    }\n",
       "\n",
       "    .dataframe thead th {\n",
       "        text-align: right;\n",
       "    }\n",
       "</style>\n",
       "<table border=\"1\" class=\"dataframe\">\n",
       "  <thead>\n",
       "    <tr style=\"text-align: right;\">\n",
       "      <th></th>\n",
       "      <th>Unnamed: 0</th>\n",
       "      <th>patient_ID</th>\n",
       "      <th>sop_Instance_UID</th>\n",
       "      <th>implementation_Class_UID</th>\n",
       "      <th>modality</th>\n",
       "      <th>body_Part</th>\n",
       "      <th>slice_Location</th>\n",
       "      <th>table_Height</th>\n",
       "      <th>image_Position_Patient</th>\n",
       "      <th>image_Orientation_Patient</th>\n",
       "      <th>patient_Position</th>\n",
       "      <th>spacing_Between_Slices</th>\n",
       "      <th>slice_Thickness</th>\n",
       "      <th>pixel_Spacing</th>\n",
       "    </tr>\n",
       "  </thead>\n",
       "  <tbody>\n",
       "    <tr>\n",
       "      <th>0</th>\n",
       "      <td>0</td>\n",
       "      <td>ID00007637202177411956430</td>\n",
       "      <td>2.25.12297650151329871895440507938349160734</td>\n",
       "      <td>0.0</td>\n",
       "      <td>CT</td>\n",
       "      <td>Chest</td>\n",
       "      <td>-69.75</td>\n",
       "      <td>130.0</td>\n",
       "      <td>[-158.700, -153.500, -69.750]</td>\n",
       "      <td>[1.000000, 0.000000, 0.000000, 0.000000, 1.000...</td>\n",
       "      <td>FFS</td>\n",
       "      <td>0.0</td>\n",
       "      <td>1.25</td>\n",
       "      <td>[0.652344, 0.652344]</td>\n",
       "    </tr>\n",
       "    <tr>\n",
       "      <th>1</th>\n",
       "      <td>1</td>\n",
       "      <td>ID00007637202177411956430</td>\n",
       "      <td>2.25.12297650151329871895440507938349160734</td>\n",
       "      <td>0.0</td>\n",
       "      <td>CT</td>\n",
       "      <td>Chest</td>\n",
       "      <td>-159.75</td>\n",
       "      <td>130.0</td>\n",
       "      <td>[-158.700, -153.500, -159.750]</td>\n",
       "      <td>[1.000000, 0.000000, 0.000000, 0.000000, 1.000...</td>\n",
       "      <td>FFS</td>\n",
       "      <td>0.0</td>\n",
       "      <td>1.25</td>\n",
       "      <td>[0.652344, 0.652344]</td>\n",
       "    </tr>\n",
       "    <tr>\n",
       "      <th>2</th>\n",
       "      <td>2</td>\n",
       "      <td>ID00007637202177411956430</td>\n",
       "      <td>2.25.37611372879908126511187998276199853341</td>\n",
       "      <td>0.0</td>\n",
       "      <td>CT</td>\n",
       "      <td>Chest</td>\n",
       "      <td>-169.75</td>\n",
       "      <td>130.0</td>\n",
       "      <td>[-158.700, -153.500, -169.750]</td>\n",
       "      <td>[1.000000, 0.000000, 0.000000, 0.000000, 1.000...</td>\n",
       "      <td>FFS</td>\n",
       "      <td>0.0</td>\n",
       "      <td>1.25</td>\n",
       "      <td>[0.652344, 0.652344]</td>\n",
       "    </tr>\n",
       "  </tbody>\n",
       "</table>\n",
       "</div>"
      ],
      "text/plain": [
       "   Unnamed: 0                 patient_ID  \\\n",
       "0           0  ID00007637202177411956430   \n",
       "1           1  ID00007637202177411956430   \n",
       "2           2  ID00007637202177411956430   \n",
       "\n",
       "                              sop_Instance_UID  implementation_Class_UID  \\\n",
       "0  2.25.12297650151329871895440507938349160734                       0.0   \n",
       "1  2.25.12297650151329871895440507938349160734                       0.0   \n",
       "2  2.25.37611372879908126511187998276199853341                       0.0   \n",
       "\n",
       "  modality body_Part  slice_Location  table_Height  \\\n",
       "0       CT     Chest          -69.75         130.0   \n",
       "1       CT     Chest         -159.75         130.0   \n",
       "2       CT     Chest         -169.75         130.0   \n",
       "\n",
       "           image_Position_Patient  \\\n",
       "0   [-158.700, -153.500, -69.750]   \n",
       "1  [-158.700, -153.500, -159.750]   \n",
       "2  [-158.700, -153.500, -169.750]   \n",
       "\n",
       "                           image_Orientation_Patient patient_Position  \\\n",
       "0  [1.000000, 0.000000, 0.000000, 0.000000, 1.000...              FFS   \n",
       "1  [1.000000, 0.000000, 0.000000, 0.000000, 1.000...              FFS   \n",
       "2  [1.000000, 0.000000, 0.000000, 0.000000, 1.000...              FFS   \n",
       "\n",
       "   spacing_Between_Slices  slice_Thickness         pixel_Spacing  \n",
       "0                     0.0             1.25  [0.652344, 0.652344]  \n",
       "1                     0.0             1.25  [0.652344, 0.652344]  \n",
       "2                     0.0             1.25  [0.652344, 0.652344]  "
      ]
     },
     "execution_count": 68,
     "metadata": {},
     "output_type": "execute_result"
    }
   ],
   "source": [
    "import pandas as pd\n",
    "import numpy as np\n",
    "import matplotlib as plt\n",
    "import seaborn as sns\n",
    "import pydicom\n",
    "\n",
    "pydf = pd.read_csv('non_pixel_array_data_OSIC_patient_dcm.csv')\n",
    "pydf.head(3)"
   ]
  },
  {
   "cell_type": "code",
   "execution_count": 69,
   "metadata": {},
   "outputs": [
    {
     "data": {
      "text/html": [
       "<div>\n",
       "<style scoped>\n",
       "    .dataframe tbody tr th:only-of-type {\n",
       "        vertical-align: middle;\n",
       "    }\n",
       "\n",
       "    .dataframe tbody tr th {\n",
       "        vertical-align: top;\n",
       "    }\n",
       "\n",
       "    .dataframe thead th {\n",
       "        text-align: right;\n",
       "    }\n",
       "</style>\n",
       "<table border=\"1\" class=\"dataframe\">\n",
       "  <thead>\n",
       "    <tr style=\"text-align: right;\">\n",
       "      <th></th>\n",
       "      <th>Weeks</th>\n",
       "      <th>FVC</th>\n",
       "      <th>Percent</th>\n",
       "      <th>Age</th>\n",
       "      <th>Sex</th>\n",
       "      <th>SmokingStatus</th>\n",
       "    </tr>\n",
       "    <tr>\n",
       "      <th>Patient</th>\n",
       "      <th></th>\n",
       "      <th></th>\n",
       "      <th></th>\n",
       "      <th></th>\n",
       "      <th></th>\n",
       "      <th></th>\n",
       "    </tr>\n",
       "  </thead>\n",
       "  <tbody>\n",
       "    <tr>\n",
       "      <th>ID00007637202177411956430</th>\n",
       "      <td>9</td>\n",
       "      <td>9</td>\n",
       "      <td>9</td>\n",
       "      <td>9</td>\n",
       "      <td>9</td>\n",
       "      <td>9</td>\n",
       "    </tr>\n",
       "    <tr>\n",
       "      <th>ID00009637202177434476278</th>\n",
       "      <td>9</td>\n",
       "      <td>9</td>\n",
       "      <td>9</td>\n",
       "      <td>9</td>\n",
       "      <td>9</td>\n",
       "      <td>9</td>\n",
       "    </tr>\n",
       "    <tr>\n",
       "      <th>ID00010637202177584971671</th>\n",
       "      <td>9</td>\n",
       "      <td>9</td>\n",
       "      <td>9</td>\n",
       "      <td>9</td>\n",
       "      <td>9</td>\n",
       "      <td>9</td>\n",
       "    </tr>\n",
       "    <tr>\n",
       "      <th>ID00011637202177653955184</th>\n",
       "      <td>9</td>\n",
       "      <td>9</td>\n",
       "      <td>9</td>\n",
       "      <td>9</td>\n",
       "      <td>9</td>\n",
       "      <td>9</td>\n",
       "    </tr>\n",
       "    <tr>\n",
       "      <th>ID00012637202177665765362</th>\n",
       "      <td>9</td>\n",
       "      <td>9</td>\n",
       "      <td>9</td>\n",
       "      <td>9</td>\n",
       "      <td>9</td>\n",
       "      <td>9</td>\n",
       "    </tr>\n",
       "    <tr>\n",
       "      <th>...</th>\n",
       "      <td>...</td>\n",
       "      <td>...</td>\n",
       "      <td>...</td>\n",
       "      <td>...</td>\n",
       "      <td>...</td>\n",
       "      <td>...</td>\n",
       "    </tr>\n",
       "    <tr>\n",
       "      <th>ID00419637202311204720264</th>\n",
       "      <td>9</td>\n",
       "      <td>9</td>\n",
       "      <td>9</td>\n",
       "      <td>9</td>\n",
       "      <td>9</td>\n",
       "      <td>9</td>\n",
       "    </tr>\n",
       "    <tr>\n",
       "      <th>ID00421637202311550012437</th>\n",
       "      <td>10</td>\n",
       "      <td>10</td>\n",
       "      <td>10</td>\n",
       "      <td>10</td>\n",
       "      <td>10</td>\n",
       "      <td>10</td>\n",
       "    </tr>\n",
       "    <tr>\n",
       "      <th>ID00422637202311677017371</th>\n",
       "      <td>8</td>\n",
       "      <td>8</td>\n",
       "      <td>8</td>\n",
       "      <td>8</td>\n",
       "      <td>8</td>\n",
       "      <td>8</td>\n",
       "    </tr>\n",
       "    <tr>\n",
       "      <th>ID00423637202312137826377</th>\n",
       "      <td>9</td>\n",
       "      <td>9</td>\n",
       "      <td>9</td>\n",
       "      <td>9</td>\n",
       "      <td>9</td>\n",
       "      <td>9</td>\n",
       "    </tr>\n",
       "    <tr>\n",
       "      <th>ID00426637202313170790466</th>\n",
       "      <td>9</td>\n",
       "      <td>9</td>\n",
       "      <td>9</td>\n",
       "      <td>9</td>\n",
       "      <td>9</td>\n",
       "      <td>9</td>\n",
       "    </tr>\n",
       "  </tbody>\n",
       "</table>\n",
       "<p>176 rows × 6 columns</p>\n",
       "</div>"
      ],
      "text/plain": [
       "                           Weeks  FVC  Percent  Age  Sex  SmokingStatus\n",
       "Patient                                                                \n",
       "ID00007637202177411956430      9    9        9    9    9              9\n",
       "ID00009637202177434476278      9    9        9    9    9              9\n",
       "ID00010637202177584971671      9    9        9    9    9              9\n",
       "ID00011637202177653955184      9    9        9    9    9              9\n",
       "ID00012637202177665765362      9    9        9    9    9              9\n",
       "...                          ...  ...      ...  ...  ...            ...\n",
       "ID00419637202311204720264      9    9        9    9    9              9\n",
       "ID00421637202311550012437     10   10       10   10   10             10\n",
       "ID00422637202311677017371      8    8        8    8    8              8\n",
       "ID00423637202312137826377      9    9        9    9    9              9\n",
       "ID00426637202313170790466      9    9        9    9    9              9\n",
       "\n",
       "[176 rows x 6 columns]"
      ]
     },
     "execution_count": 69,
     "metadata": {},
     "output_type": "execute_result"
    }
   ],
   "source": [
    "train = pd.read_csv('data/train.csv')\n",
    "# train.head(3)\n",
    "train.groupby(['Patient']).count()"
   ]
  },
  {
   "cell_type": "code",
   "execution_count": 70,
   "metadata": {},
   "outputs": [
    {
     "data": {
      "text/html": [
       "<div>\n",
       "<style scoped>\n",
       "    .dataframe tbody tr th:only-of-type {\n",
       "        vertical-align: middle;\n",
       "    }\n",
       "\n",
       "    .dataframe tbody tr th {\n",
       "        vertical-align: top;\n",
       "    }\n",
       "\n",
       "    .dataframe thead th {\n",
       "        text-align: right;\n",
       "    }\n",
       "</style>\n",
       "<table border=\"1\" class=\"dataframe\">\n",
       "  <thead>\n",
       "    <tr style=\"text-align: right;\">\n",
       "      <th></th>\n",
       "      <th>patient_ID</th>\n",
       "      <th>sop_Instance_UID</th>\n",
       "      <th>modality</th>\n",
       "      <th>slice_Location</th>\n",
       "      <th>table_Height</th>\n",
       "      <th>image_Position_Patient</th>\n",
       "      <th>image_Orientation_Patient</th>\n",
       "      <th>patient_Position</th>\n",
       "      <th>slice_Thickness</th>\n",
       "      <th>pixel_Spacing</th>\n",
       "      <th>Weeks</th>\n",
       "      <th>FVC</th>\n",
       "      <th>Percent</th>\n",
       "      <th>Age</th>\n",
       "      <th>Sex</th>\n",
       "      <th>SmokingStatus</th>\n",
       "    </tr>\n",
       "  </thead>\n",
       "  <tbody>\n",
       "    <tr>\n",
       "      <th>0</th>\n",
       "      <td>ID00007637202177411956430</td>\n",
       "      <td>2.25.12297650151329871895440507938349160734</td>\n",
       "      <td>CT</td>\n",
       "      <td>-69.75</td>\n",
       "      <td>130.0</td>\n",
       "      <td>[-158.700, -153.500, -69.750]</td>\n",
       "      <td>[1.000000, 0.000000, 0.000000, 0.000000, 1.000...</td>\n",
       "      <td>FFS</td>\n",
       "      <td>1.25</td>\n",
       "      <td>[0.652344, 0.652344]</td>\n",
       "      <td>-4.0</td>\n",
       "      <td>2315.0</td>\n",
       "      <td>58.253649</td>\n",
       "      <td>79.0</td>\n",
       "      <td>Male</td>\n",
       "      <td>Ex-smoker</td>\n",
       "    </tr>\n",
       "    <tr>\n",
       "      <th>1</th>\n",
       "      <td>ID00007637202177411956430</td>\n",
       "      <td>2.25.12297650151329871895440507938349160734</td>\n",
       "      <td>CT</td>\n",
       "      <td>-159.75</td>\n",
       "      <td>130.0</td>\n",
       "      <td>[-158.700, -153.500, -159.750]</td>\n",
       "      <td>[1.000000, 0.000000, 0.000000, 0.000000, 1.000...</td>\n",
       "      <td>FFS</td>\n",
       "      <td>1.25</td>\n",
       "      <td>[0.652344, 0.652344]</td>\n",
       "      <td>5.0</td>\n",
       "      <td>2214.0</td>\n",
       "      <td>55.712129</td>\n",
       "      <td>79.0</td>\n",
       "      <td>Male</td>\n",
       "      <td>Ex-smoker</td>\n",
       "    </tr>\n",
       "    <tr>\n",
       "      <th>2</th>\n",
       "      <td>ID00007637202177411956430</td>\n",
       "      <td>2.25.37611372879908126511187998276199853341</td>\n",
       "      <td>CT</td>\n",
       "      <td>-169.75</td>\n",
       "      <td>130.0</td>\n",
       "      <td>[-158.700, -153.500, -169.750]</td>\n",
       "      <td>[1.000000, 0.000000, 0.000000, 0.000000, 1.000...</td>\n",
       "      <td>FFS</td>\n",
       "      <td>1.25</td>\n",
       "      <td>[0.652344, 0.652344]</td>\n",
       "      <td>7.0</td>\n",
       "      <td>2061.0</td>\n",
       "      <td>51.862104</td>\n",
       "      <td>79.0</td>\n",
       "      <td>Male</td>\n",
       "      <td>Ex-smoker</td>\n",
       "    </tr>\n",
       "  </tbody>\n",
       "</table>\n",
       "</div>"
      ],
      "text/plain": [
       "                  patient_ID                             sop_Instance_UID  \\\n",
       "0  ID00007637202177411956430  2.25.12297650151329871895440507938349160734   \n",
       "1  ID00007637202177411956430  2.25.12297650151329871895440507938349160734   \n",
       "2  ID00007637202177411956430  2.25.37611372879908126511187998276199853341   \n",
       "\n",
       "  modality  slice_Location  table_Height          image_Position_Patient  \\\n",
       "0       CT          -69.75         130.0   [-158.700, -153.500, -69.750]   \n",
       "1       CT         -159.75         130.0  [-158.700, -153.500, -159.750]   \n",
       "2       CT         -169.75         130.0  [-158.700, -153.500, -169.750]   \n",
       "\n",
       "                           image_Orientation_Patient patient_Position  \\\n",
       "0  [1.000000, 0.000000, 0.000000, 0.000000, 1.000...              FFS   \n",
       "1  [1.000000, 0.000000, 0.000000, 0.000000, 1.000...              FFS   \n",
       "2  [1.000000, 0.000000, 0.000000, 0.000000, 1.000...              FFS   \n",
       "\n",
       "   slice_Thickness         pixel_Spacing  Weeks     FVC    Percent   Age  \\\n",
       "0             1.25  [0.652344, 0.652344]   -4.0  2315.0  58.253649  79.0   \n",
       "1             1.25  [0.652344, 0.652344]    5.0  2214.0  55.712129  79.0   \n",
       "2             1.25  [0.652344, 0.652344]    7.0  2061.0  51.862104  79.0   \n",
       "\n",
       "    Sex SmokingStatus  \n",
       "0  Male     Ex-smoker  \n",
       "1  Male     Ex-smoker  \n",
       "2  Male     Ex-smoker  "
      ]
     },
     "execution_count": 70,
     "metadata": {},
     "output_type": "execute_result"
    }
   ],
   "source": [
    "df = pd.concat([pydf, train], axis = 1)\n",
    "df.drop(columns = ['Unnamed: 0', 'Patient', 'implementation_Class_UID', 'body_Part', 'spacing_Between_Slices'], inplace = True)\n",
    "df.head(3)"
   ]
  },
  {
   "cell_type": "code",
   "execution_count": 71,
   "metadata": {},
   "outputs": [
    {
     "data": {
      "text/plain": [
       "patient_ID                    object\n",
       "sop_Instance_UID              object\n",
       "modality                      object\n",
       "slice_Location               float64\n",
       "table_Height                 float64\n",
       "image_Position_Patient        object\n",
       "image_Orientation_Patient     object\n",
       "patient_Position              object\n",
       "slice_Thickness              float64\n",
       "pixel_Spacing                 object\n",
       "Weeks                        float64\n",
       "FVC                          float64\n",
       "Percent                      float64\n",
       "Age                          float64\n",
       "Sex                           object\n",
       "SmokingStatus                 object\n",
       "dtype: object"
      ]
     },
     "execution_count": 71,
     "metadata": {},
     "output_type": "execute_result"
    }
   ],
   "source": [
    "\n",
    "\n",
    "cols = ['image_Position_Patient', 'image_Orientation_Patient',\n",
    "       'pixel_Spacing']\n",
    "# df[cols] = df[cols].apply(pd.to_numeric, errors='coerce')\n",
    "# df[cols] = df[cols].astype(np.float)\n",
    "df[cols] = df[cols].to_numpy()\n",
    "\n",
    "str_columns_to_convert_to = ['patient_ID', 'sop_Instance_UID', 'modality', \n",
    "       'patient_Position','Sex', 'SmokingStatus']\n",
    "float_columns_to_convert_to = ['slice_Location', 'table_Height', \n",
    "        'slice_Thickness', 'Percent', 'Age']\n",
    "\n",
    "df[str_columns_to_convert_to] = df[str_columns_to_convert_to].astype(str)\n",
    "df = df.fillna(0)\n",
    "df[float_columns_to_convert_to] = df[float_columns_to_convert_to].apply(pd.to_numeric, errors='coerce')\n",
    "# df[float_columns_to_convert_to] = df[float_columns_to_convert_to].astype(int)\n",
    "df.dtypes"
   ]
  },
  {
   "cell_type": "code",
   "execution_count": 79,
   "metadata": {},
   "outputs": [
    {
     "data": {
      "text/plain": [
       "patient_ID                     176\n",
       "sop_Instance_UID             33026\n",
       "modality                         2\n",
       "image_Position_Patient       31758\n",
       "image_Orientation_Patient       14\n",
       "patient_Position                 5\n",
       "pixel_Spacing                  129\n",
       "Sex                              3\n",
       "SmokingStatus                    4\n",
       "dtype: int64"
      ]
     },
     "execution_count": 79,
     "metadata": {},
     "output_type": "execute_result"
    }
   ],
   "source": [
    "cardinality = df.select_dtypes(exclude='number').nunique()\n",
    "cardinality"
   ]
  },
  {
   "cell_type": "code",
   "execution_count": null,
   "metadata": {},
   "outputs": [],
   "source": [
    "train, val = train_test_split(df, train_size=0.70, test_size=0.30, random_state=42)\n",
    "\n",
    "target = 'FVC'\n",
    "\n",
    "# Get a dataframe with all train columns except the target & id\n",
    "train_features = train.drop(columns=[target, 'patient_ID'])\n",
    "\n",
    "# Get a list of the numeric features\n",
    "numeric_features = train_features.select_dtypes(include='number').columns.tolist()\n",
    "\n",
    "# Get a series with the cardinality of the nonnumeric features\n",
    "cardinality = train_features.select_dtypes(exclude='number').nunique()\n",
    "\n",
    "# Get a list of all categorical features with cardinality <= 50\n",
    "categorical_features = cardinality[cardinality <= 50].index.tolist()\n",
    "\n",
    "# Combine the lists \n",
    "features = numeric_features \n",
    "\n",
    "\n",
    "# Arrange data into X features matrix and y target vector \n",
    "X_train = train[features]\n",
    "y_train = train[target]\n",
    "X_val = val[features]\n",
    "y_val = val[target]\n",
    "\n",
    "train.shape, val.shape"
   ]
  },
  {
   "cell_type": "code",
   "execution_count": 80,
   "metadata": {},
   "outputs": [],
   "source": [
    "import category_encoders as ce\n",
    "from sklearn.impute import SimpleImputer\n",
    "from sklearn.linear_model import LogisticRegression\n",
    "from sklearn.pipeline import make_pipeline\n",
    "from sklearn.preprocessing import StandardScaler\n",
    "\n",
    "encoder = ce.OneHotEncoder(use_cat_names=True)\n",
    "imputer = SimpleImputer()\n",
    "scaler = StandardScaler()\n",
    "model = LogisticRegression(max_iter=1000)\n",
    "\n",
    "X_train_encoded = encoder.fit_transform(X_train)\n",
    "X_train_imputed = imputer.fit_transform(X_train_encoded)\n",
    "X_train_scaled = scaler.fit_transform(X_train_imputed)\n",
    "model.fit(X_train_scaled, y_train)\n",
    "\n",
    "X_test_encoded = encoder.transform(X_test)\n",
    "X_test_imputed = imputer.transform(X_test_encoded)\n",
    "X_test_scaled = scaler.transform(X_test_imputed)\n",
    "y_pred = model.predict(X_test_scaled)"
   ]
  },
  {
   "cell_type": "code",
   "execution_count": 82,
   "metadata": {},
   "outputs": [
    {
     "name": "stdout",
     "output_type": "stream",
     "text": [
      "Validation Accuracy 0.9532067162124965\n"
     ]
    }
   ],
   "source": [
    "# TODO\n",
    "from sklearn.preprocessing import StandardScaler\n",
    "import category_encoders as ce\n",
    "from sklearn.impute import SimpleImputer\n",
    "from sklearn.linear_model import LogisticRegression\n",
    "from sklearn.pipeline import make_pipeline\n",
    "\n",
    "pipeline = make_pipeline(\n",
    "    ce.OneHotEncoder(use_cat_names = True),\n",
    "    SimpleImputer(strategy ='mean'),\n",
    "    StandardScaler(),\n",
    "    LogisticRegression(max_iter=1000)\n",
    "\n",
    "\n",
    ")\n",
    "#Fit on Train\n",
    "pipeline.fit(X_train, y_train)\n",
    "#Score on Val\n",
    "print('Validation Accuracy', pipeline.score(X_test, y_test))"
   ]
  },
  {
   "cell_type": "code",
   "execution_count": 83,
   "metadata": {},
   "outputs": [
    {
     "data": {
      "text/plain": [
       "array([[-0.09684626, -0.06703482,  0.26125478, -0.80933653, -2.11610555,\n",
       "        -2.60936181],\n",
       "       [ 0.68594891,  0.26226285, -0.11135542,  0.56935042, -1.13990582,\n",
       "         0.55992588],\n",
       "       [ 0.71067681,  0.24824125, -0.12331013,  0.88065331, -1.09604753,\n",
       "         0.58690256],\n",
       "       ...,\n",
       "       [ 0.5562554 ,  0.29147997, -0.10049675, -0.31722457,  1.55490376,\n",
       "         0.12934104],\n",
       "       [ 0.50852732,  0.22757828, -0.09388384, -0.70347617,  1.57799066,\n",
       "         0.11192719],\n",
       "       [ 0.41655302,  0.16881294, -0.07932011, -1.04339467,  1.79525565,\n",
       "         0.09309206]])"
      ]
     },
     "execution_count": 83,
     "metadata": {},
     "output_type": "execute_result"
    }
   ],
   "source": [
    "\n",
    "#coefficients\n",
    "#scikit learn regression\n",
    "pipeline.named_steps['logisticregression'].coef_"
   ]
  },
  {
   "cell_type": "code",
   "execution_count": 84,
   "metadata": {},
   "outputs": [
    {
     "data": {
      "text/plain": [
       "Index(['slice_Location', 'table_Height', 'slice_Thickness', 'Weeks', 'Percent',\n",
       "       'Age'],\n",
       "      dtype='object')"
      ]
     },
     "execution_count": 84,
     "metadata": {},
     "output_type": "execute_result"
    }
   ],
   "source": [
    "\n",
    "encoder.transform(X_test).columns"
   ]
  },
  {
   "cell_type": "code",
   "execution_count": 86,
   "metadata": {},
   "outputs": [
    {
     "data": {
      "image/png": "[encoded data removed]",
      "text/plain": [
       "<Figure size 720x2160 with 1 Axes>"
      ]
     },
     "metadata": {
      "needs_background": "light"
     },
     "output_type": "display_data"
    }
   ],
   "source": [
    "%matplotlib inline\n",
    "import matplotlib.pyplot as plt\n",
    "\n",
    "model = pipeline.named_steps['logisticregression']\n",
    "encoder = pipeline.named_steps['onehotencoder']\n",
    "encoded_columns = encoder.transform(X_test).columns\n",
    "coefficients = pd.Series(model.coef_[0], encoded_columns)\n",
    "plt.figure(figsize=(10,30))\n",
    "coefficients.sort_values().plot.barh(color='grey');"
   ]
  },
  {
   "cell_type": "code",
   "execution_count": 87,
   "metadata": {},
   "outputs": [
    {
     "ename": "ModuleNotFoundError",
     "evalue": "No module named 'pandas_profiling'",
     "output_type": "error",
     "traceback": [
      "\u001b[1;31m---------------------------------------------------------------------------\u001b[0m",
      "\u001b[1;31mModuleNotFoundError\u001b[0m                       Traceback (most recent call last)",
      "\u001b[1;32m<ipython-input-87-5000da83b340>\u001b[0m in \u001b[0;36m<module>\u001b[1;34m\u001b[0m\n\u001b[1;32m----> 1\u001b[1;33m \u001b[1;32mfrom\u001b[0m \u001b[0mpandas_profiling\u001b[0m \u001b[1;32mimport\u001b[0m \u001b[0mProfileReport\u001b[0m\u001b[1;33m\u001b[0m\u001b[1;33m\u001b[0m\u001b[0m\n\u001b[0m\u001b[0;32m      2\u001b[0m \u001b[0mprofile\u001b[0m \u001b[1;33m=\u001b[0m \u001b[0mProfileReport\u001b[0m\u001b[1;33m(\u001b[0m\u001b[0mdf\u001b[0m\u001b[1;33m,\u001b[0m \u001b[0mminimal\u001b[0m\u001b[1;33m=\u001b[0m\u001b[1;32mTrue\u001b[0m\u001b[1;33m)\u001b[0m\u001b[1;33m.\u001b[0m\u001b[0mto_notebook_iframe\u001b[0m\u001b[1;33m(\u001b[0m\u001b[1;33m)\u001b[0m\u001b[1;33m\u001b[0m\u001b[1;33m\u001b[0m\u001b[0m\n\u001b[0;32m      3\u001b[0m \u001b[1;33m\u001b[0m\u001b[0m\n\u001b[0;32m      4\u001b[0m \u001b[0mprofile\u001b[0m\u001b[1;33m\u001b[0m\u001b[1;33m\u001b[0m\u001b[0m\n",
      "\u001b[1;31mModuleNotFoundError\u001b[0m: No module named 'pandas_profiling'"
     ]
    }
   ],
   "source": [
    "from pandas_profiling import ProfileReport\n",
    "profile = ProfileReport(df, minimal=True).to_notebook_iframe()\n",
    "\n",
    "profile"
   ]
  },
  {
   "cell_type": "code",
   "execution_count": 72,
   "metadata": {},
   "outputs": [],
   "source": [
    "from sklearn.model_selection import train_test_split\n",
    "\n",
    "target = 'FVC'\n",
    "# features = ['patient_ID', 'sop_Instance_UID', 'modality', 'slice_Location',\n",
    "#        'table_Height', 'image_Position_Patient', 'image_Orientation_Patient',\n",
    "#        'patient_Position', 'slice_Thickness', 'pixel_Spacing', 'Weeks',\n",
    "#        'Percent', 'Age', 'Sex', 'SmokingStatus']\n",
    "\n",
    "numericfeatures = ['slice_Location','table_Height', 'slice_Thickness', \n",
    " 'Weeks','Percent', 'Age']\n",
    "\n",
    "X = df[numericfeatures]\n",
    "y = df[target]\n",
    "\n",
    "\n",
    "X_train, X_test, y_train, y_test = train_test_split(X, y, test_size=0.33, random_state=42)"
   ]
  },
  {
   "cell_type": "code",
   "execution_count": null,
   "metadata": {},
   "outputs": [],
   "source": []
  },
  {
   "cell_type": "code",
   "execution_count": 9,
   "metadata": {},
   "outputs": [
    {
     "data": {
      "text/plain": [
       "[(100.0, 7000.0), (0.0, 0.0006)]"
      ]
     },
     "execution_count": 9,
     "metadata": {},
     "output_type": "execute_result"
    },
    {
     "data": {
      "image/png": "[encoded data removed]",
      "text/plain": [
       "<Figure size 432x288 with 1 Axes>"
      ]
     },
     "metadata": {
      "needs_background": "light"
     },
     "output_type": "display_data"
    }
   ],
   "source": [
    "from scipy.stats import norm\n",
    "\n",
    "nonzero = y_train[y_train > 10]\n",
    "\n",
    "plot = sns.distplot(nonzero)\n",
    "plot = plot.set(xlim=(100,7000),ylim=(0,0.0006))\n",
    "plot"
   ]
  },
  {
   "cell_type": "code",
   "execution_count": null,
   "metadata": {},
   "outputs": [],
   "source": [
    "g = sns.pairplot(df, hue=\"Age\", palette=\"husl\",\n",
    "                 diag_kind=\"kde\", markers=\"+\",\n",
    "                 plot_kws=dict(s=50, edgecolor=\"b\", linewidth=1),\n",
    "                 diag_kws=dict(shade=True))"
   ]
  },
  {
   "cell_type": "code",
   "execution_count": null,
   "metadata": {},
   "outputs": [],
   "source": []
  },
  {
   "cell_type": "code",
   "execution_count": null,
   "metadata": {},
   "outputs": [],
   "source": [
    "g = sns.pairplot(df, hue=\"SmokingStatus\", palette=\"husl\",\n",
    "                 diag_kind=\"kde\", markers=\"+\",\n",
    "                 plot_kws=dict(s=50, edgecolor=\"b\", linewidth=1),\n",
    "                 diag_kws=dict(shade=True))"
   ]
  },
  {
   "cell_type": "code",
   "execution_count": 10,
   "metadata": {},
   "outputs": [
    {
     "name": "stdout",
     "output_type": "stream",
     "text": [
      "Mean Absolute Error Taking the Median: 126.19 percentage points\n"
     ]
    }
   ],
   "source": [
    "from sklearn.metrics import mean_absolute_error\n",
    "\n",
    "guess = y_train.median()\n",
    "\n",
    "y_pred = [guess] * len(y_train)\n",
    "mae = mean_absolute_error(y_train, y_pred)\n",
    "print(f'Mean Absolute Error Taking the Median: {mae:.2f} percentage points')"
   ]
  },
  {
   "cell_type": "code",
   "execution_count": null,
   "metadata": {},
   "outputs": [],
   "source": []
  },
  {
   "cell_type": "code",
   "execution_count": 60,
   "metadata": {},
   "outputs": [
    {
     "name": "stdout",
     "output_type": "stream",
     "text": [
      "Train Error: 25.00 percentage points\n"
     ]
    }
   ],
   "source": [
    "from sklearn.linear_model import LinearRegression\n",
    "\n",
    "model = LinearRegression()\n",
    "\n",
    "numericfeatures = ['slice_Location','table_Height', 'slice_Thickness', \n",
    " 'Weeks','Percent', 'Age']\n",
    "X_trainlr = df[numericfeatures]\n",
    "\n",
    "model.fit(X_trainlr, y_train)\n",
    "y_pred = model.predict(X_trainlr)\n",
    "mae = mean_absolute_error(y_train, y_pred)\n",
    "print(f'Train Error: {mae:.2f} percentage points')"
   ]
  },
  {
   "cell_type": "code",
   "execution_count": 61,
   "metadata": {},
   "outputs": [
    {
     "data": {
      "text/plain": [
       "(-8.041059001252762,\n",
       " array([-7.31914866e-04,  3.91448213e-02,  3.22875000e+00, -6.68491982e-02,\n",
       "         3.14539764e+01,  3.70349129e+00]))"
      ]
     },
     "execution_count": 61,
     "metadata": {},
     "output_type": "execute_result"
    }
   ],
   "source": [
    "model.intercept_, model.coef_"
   ]
  },
  {
   "cell_type": "code",
   "execution_count": 76,
   "metadata": {},
   "outputs": [
    {
     "data": {
      "text/plain": [
       "((22128, 6), (22128,), (10899, 6), (10899,))"
      ]
     },
     "execution_count": 76,
     "metadata": {},
     "output_type": "execute_result"
    }
   ],
   "source": [
    "X_train.shape, y_train.shape, X_test.shape, y_test.shape"
   ]
  },
  {
   "cell_type": "code",
   "execution_count": 77,
   "metadata": {},
   "outputs": [
    {
     "data": {
      "text/html": [
       "Polynomial degree=1"
      ],
      "text/plain": [
       "<IPython.core.display.HTML object>"
      ]
     },
     "metadata": {},
     "output_type": "display_data"
    },
    {
     "data": {
      "text/html": [
       "<b style=\"color: blue\">Train R2 0.95</b>"
      ],
      "text/plain": [
       "<IPython.core.display.HTML object>"
      ]
     },
     "metadata": {},
     "output_type": "display_data"
    },
    {
     "data": {
      "text/html": [
       "<b style=\"color: red\">Test R2 0.96</b>"
      ],
      "text/plain": [
       "<IPython.core.display.HTML object>"
      ]
     },
     "metadata": {},
     "output_type": "display_data"
    },
    {
     "data": {
      "text/html": [
       "Polynomial degree=3"
      ],
      "text/plain": [
       "<IPython.core.display.HTML object>"
      ]
     },
     "metadata": {},
     "output_type": "display_data"
    },
    {
     "data": {
      "text/html": [
       "<b style=\"color: blue\">Train R2 0.96</b>"
      ],
      "text/plain": [
       "<IPython.core.display.HTML object>"
      ]
     },
     "metadata": {},
     "output_type": "display_data"
    },
    {
     "data": {
      "text/html": [
       "<b style=\"color: red\">Test R2 0.96</b>"
      ],
      "text/plain": [
       "<IPython.core.display.HTML object>"
      ]
     },
     "metadata": {},
     "output_type": "display_data"
    },
    {
     "data": {
      "text/html": [
       "Polynomial degree=5"
      ],
      "text/plain": [
       "<IPython.core.display.HTML object>"
      ]
     },
     "metadata": {},
     "output_type": "display_data"
    },
    {
     "data": {
      "text/html": [
       "<b style=\"color: blue\">Train R2 0.98</b>"
      ],
      "text/plain": [
       "<IPython.core.display.HTML object>"
      ]
     },
     "metadata": {},
     "output_type": "display_data"
    },
    {
     "data": {
      "text/html": [
       "<b style=\"color: red\">Test R2 0.01</b>"
      ],
      "text/plain": [
       "<IPython.core.display.HTML object>"
      ]
     },
     "metadata": {},
     "output_type": "display_data"
    },
    {
     "data": {
      "text/html": [
       "Polynomial degree=7"
      ],
      "text/plain": [
       "<IPython.core.display.HTML object>"
      ]
     },
     "metadata": {},
     "output_type": "display_data"
    },
    {
     "data": {
      "text/html": [
       "<b style=\"color: blue\">Train R2 0.99</b>"
      ],
      "text/plain": [
       "<IPython.core.display.HTML object>"
      ]
     },
     "metadata": {},
     "output_type": "display_data"
    },
    {
     "data": {
      "text/html": [
       "<b style=\"color: red\">Test R2 -471.39</b>"
      ],
      "text/plain": [
       "<IPython.core.display.HTML object>"
      ]
     },
     "metadata": {},
     "output_type": "display_data"
    },
    {
     "data": {
      "text/html": [
       "Polynomial degree=9"
      ],
      "text/plain": [
       "<IPython.core.display.HTML object>"
      ]
     },
     "metadata": {},
     "output_type": "display_data"
    },
    {
     "data": {
      "text/html": [
       "<b style=\"color: blue\">Train R2 0.99</b>"
      ],
      "text/plain": [
       "<IPython.core.display.HTML object>"
      ]
     },
     "metadata": {},
     "output_type": "display_data"
    },
    {
     "data": {
      "text/html": [
       "<b style=\"color: red\">Test R2 -139.65</b>"
      ],
      "text/plain": [
       "<IPython.core.display.HTML object>"
      ]
     },
     "metadata": {},
     "output_type": "display_data"
    },
    {
     "data": {
      "text/html": [
       "Validation Curve"
      ],
      "text/plain": [
       "<IPython.core.display.HTML object>"
      ]
     },
     "metadata": {},
     "output_type": "display_data"
    },
    {
     "ename": "ValueError",
     "evalue": "x and y must have same first dimension, but have shapes (5,) and (0,)",
     "output_type": "error",
     "traceback": [
      "\u001b[1;31m---------------------------------------------------------------------------\u001b[0m",
      "\u001b[1;31mValueError\u001b[0m                                Traceback (most recent call last)",
      "\u001b[1;32m<ipython-input-77-67588f618b90>\u001b[0m in \u001b[0;36m<module>\u001b[1;34m\u001b[0m\n\u001b[0;32m     40\u001b[0m \u001b[1;33m\u001b[0m\u001b[0m\n\u001b[0;32m     41\u001b[0m \u001b[0mdisplay\u001b[0m\u001b[1;33m(\u001b[0m\u001b[0mHTML\u001b[0m\u001b[1;33m(\u001b[0m\u001b[1;34m'Validation Curve'\u001b[0m\u001b[1;33m)\u001b[0m\u001b[1;33m)\u001b[0m\u001b[1;33m\u001b[0m\u001b[1;33m\u001b[0m\u001b[0m\n\u001b[1;32m---> 42\u001b[1;33m \u001b[0mplt\u001b[0m\u001b[1;33m.\u001b[0m\u001b[0mplot\u001b[0m\u001b[1;33m(\u001b[0m\u001b[0mpolynomial_degrees\u001b[0m\u001b[1;33m,\u001b[0m \u001b[0mtrain_r2s\u001b[0m\u001b[1;33m,\u001b[0m \u001b[0mcolor\u001b[0m\u001b[1;33m=\u001b[0m\u001b[1;34m'blue'\u001b[0m\u001b[1;33m,\u001b[0m \u001b[0mlabel\u001b[0m\u001b[1;33m=\u001b[0m\u001b[1;34m'Train'\u001b[0m\u001b[1;33m)\u001b[0m\u001b[1;33m\u001b[0m\u001b[1;33m\u001b[0m\u001b[0m\n\u001b[0m\u001b[0;32m     43\u001b[0m \u001b[0mplt\u001b[0m\u001b[1;33m.\u001b[0m\u001b[0mplot\u001b[0m\u001b[1;33m(\u001b[0m\u001b[0mpolynomial_degrees\u001b[0m\u001b[1;33m,\u001b[0m \u001b[0mtest_r2s\u001b[0m\u001b[1;33m,\u001b[0m \u001b[0mcolor\u001b[0m\u001b[1;33m=\u001b[0m\u001b[1;34m'red'\u001b[0m\u001b[1;33m,\u001b[0m \u001b[0mlabel\u001b[0m\u001b[1;33m=\u001b[0m\u001b[1;34m'Test'\u001b[0m\u001b[1;33m)\u001b[0m\u001b[1;33m\u001b[0m\u001b[1;33m\u001b[0m\u001b[0m\n\u001b[0;32m     44\u001b[0m \u001b[0mplt\u001b[0m\u001b[1;33m.\u001b[0m\u001b[0mxlabel\u001b[0m\u001b[1;33m(\u001b[0m\u001b[1;34m'Model Complexity (Polynomial Degree)'\u001b[0m\u001b[1;33m)\u001b[0m\u001b[1;33m\u001b[0m\u001b[1;33m\u001b[0m\u001b[0m\n",
      "\u001b[1;32m~\\Kaggle_OSIC\\venv\\lib\\site-packages\\matplotlib\\pyplot.py\u001b[0m in \u001b[0;36mplot\u001b[1;34m(scalex, scaley, data, *args, **kwargs)\u001b[0m\n\u001b[0;32m   2823\u001b[0m     return gca().plot(\n\u001b[0;32m   2824\u001b[0m         \u001b[1;33m*\u001b[0m\u001b[0margs\u001b[0m\u001b[1;33m,\u001b[0m \u001b[0mscalex\u001b[0m\u001b[1;33m=\u001b[0m\u001b[0mscalex\u001b[0m\u001b[1;33m,\u001b[0m \u001b[0mscaley\u001b[0m\u001b[1;33m=\u001b[0m\u001b[0mscaley\u001b[0m\u001b[1;33m,\u001b[0m\u001b[1;33m\u001b[0m\u001b[1;33m\u001b[0m\u001b[0m\n\u001b[1;32m-> 2825\u001b[1;33m         **({\"data\": data} if data is not None else {}), **kwargs)\n\u001b[0m\u001b[0;32m   2826\u001b[0m \u001b[1;33m\u001b[0m\u001b[0m\n\u001b[0;32m   2827\u001b[0m \u001b[1;33m\u001b[0m\u001b[0m\n",
      "\u001b[1;32m~\\Kaggle_OSIC\\venv\\lib\\site-packages\\matplotlib\\axes\\_axes.py\u001b[0m in \u001b[0;36mplot\u001b[1;34m(self, scalex, scaley, data, *args, **kwargs)\u001b[0m\n\u001b[0;32m   1741\u001b[0m         \"\"\"\n\u001b[0;32m   1742\u001b[0m         \u001b[0mkwargs\u001b[0m \u001b[1;33m=\u001b[0m \u001b[0mcbook\u001b[0m\u001b[1;33m.\u001b[0m\u001b[0mnormalize_kwargs\u001b[0m\u001b[1;33m(\u001b[0m\u001b[0mkwargs\u001b[0m\u001b[1;33m,\u001b[0m \u001b[0mmlines\u001b[0m\u001b[1;33m.\u001b[0m\u001b[0mLine2D\u001b[0m\u001b[1;33m)\u001b[0m\u001b[1;33m\u001b[0m\u001b[1;33m\u001b[0m\u001b[0m\n\u001b[1;32m-> 1743\u001b[1;33m         \u001b[0mlines\u001b[0m \u001b[1;33m=\u001b[0m \u001b[1;33m[\u001b[0m\u001b[1;33m*\u001b[0m\u001b[0mself\u001b[0m\u001b[1;33m.\u001b[0m\u001b[0m_get_lines\u001b[0m\u001b[1;33m(\u001b[0m\u001b[1;33m*\u001b[0m\u001b[0margs\u001b[0m\u001b[1;33m,\u001b[0m \u001b[0mdata\u001b[0m\u001b[1;33m=\u001b[0m\u001b[0mdata\u001b[0m\u001b[1;33m,\u001b[0m \u001b[1;33m**\u001b[0m\u001b[0mkwargs\u001b[0m\u001b[1;33m)\u001b[0m\u001b[1;33m]\u001b[0m\u001b[1;33m\u001b[0m\u001b[1;33m\u001b[0m\u001b[0m\n\u001b[0m\u001b[0;32m   1744\u001b[0m         \u001b[1;32mfor\u001b[0m \u001b[0mline\u001b[0m \u001b[1;32min\u001b[0m \u001b[0mlines\u001b[0m\u001b[1;33m:\u001b[0m\u001b[1;33m\u001b[0m\u001b[1;33m\u001b[0m\u001b[0m\n\u001b[0;32m   1745\u001b[0m             \u001b[0mself\u001b[0m\u001b[1;33m.\u001b[0m\u001b[0madd_line\u001b[0m\u001b[1;33m(\u001b[0m\u001b[0mline\u001b[0m\u001b[1;33m)\u001b[0m\u001b[1;33m\u001b[0m\u001b[1;33m\u001b[0m\u001b[0m\n",
      "\u001b[1;32m~\\Kaggle_OSIC\\venv\\lib\\site-packages\\matplotlib\\axes\\_base.py\u001b[0m in \u001b[0;36m__call__\u001b[1;34m(self, data, *args, **kwargs)\u001b[0m\n\u001b[0;32m    271\u001b[0m                 \u001b[0mthis\u001b[0m \u001b[1;33m+=\u001b[0m \u001b[0margs\u001b[0m\u001b[1;33m[\u001b[0m\u001b[1;36m0\u001b[0m\u001b[1;33m]\u001b[0m\u001b[1;33m,\u001b[0m\u001b[1;33m\u001b[0m\u001b[1;33m\u001b[0m\u001b[0m\n\u001b[0;32m    272\u001b[0m                 \u001b[0margs\u001b[0m \u001b[1;33m=\u001b[0m \u001b[0margs\u001b[0m\u001b[1;33m[\u001b[0m\u001b[1;36m1\u001b[0m\u001b[1;33m:\u001b[0m\u001b[1;33m]\u001b[0m\u001b[1;33m\u001b[0m\u001b[1;33m\u001b[0m\u001b[0m\n\u001b[1;32m--> 273\u001b[1;33m             \u001b[1;32myield\u001b[0m \u001b[1;32mfrom\u001b[0m \u001b[0mself\u001b[0m\u001b[1;33m.\u001b[0m\u001b[0m_plot_args\u001b[0m\u001b[1;33m(\u001b[0m\u001b[0mthis\u001b[0m\u001b[1;33m,\u001b[0m \u001b[0mkwargs\u001b[0m\u001b[1;33m)\u001b[0m\u001b[1;33m\u001b[0m\u001b[1;33m\u001b[0m\u001b[0m\n\u001b[0m\u001b[0;32m    274\u001b[0m \u001b[1;33m\u001b[0m\u001b[0m\n\u001b[0;32m    275\u001b[0m     \u001b[1;32mdef\u001b[0m \u001b[0mget_next_color\u001b[0m\u001b[1;33m(\u001b[0m\u001b[0mself\u001b[0m\u001b[1;33m)\u001b[0m\u001b[1;33m:\u001b[0m\u001b[1;33m\u001b[0m\u001b[1;33m\u001b[0m\u001b[0m\n",
      "\u001b[1;32m~\\Kaggle_OSIC\\venv\\lib\\site-packages\\matplotlib\\axes\\_base.py\u001b[0m in \u001b[0;36m_plot_args\u001b[1;34m(self, tup, kwargs)\u001b[0m\n\u001b[0;32m    397\u001b[0m \u001b[1;33m\u001b[0m\u001b[0m\n\u001b[0;32m    398\u001b[0m         \u001b[1;32mif\u001b[0m \u001b[0mx\u001b[0m\u001b[1;33m.\u001b[0m\u001b[0mshape\u001b[0m\u001b[1;33m[\u001b[0m\u001b[1;36m0\u001b[0m\u001b[1;33m]\u001b[0m \u001b[1;33m!=\u001b[0m \u001b[0my\u001b[0m\u001b[1;33m.\u001b[0m\u001b[0mshape\u001b[0m\u001b[1;33m[\u001b[0m\u001b[1;36m0\u001b[0m\u001b[1;33m]\u001b[0m\u001b[1;33m:\u001b[0m\u001b[1;33m\u001b[0m\u001b[1;33m\u001b[0m\u001b[0m\n\u001b[1;32m--> 399\u001b[1;33m             raise ValueError(f\"x and y must have same first dimension, but \"\n\u001b[0m\u001b[0;32m    400\u001b[0m                              f\"have shapes {x.shape} and {y.shape}\")\n\u001b[0;32m    401\u001b[0m         \u001b[1;32mif\u001b[0m \u001b[0mx\u001b[0m\u001b[1;33m.\u001b[0m\u001b[0mndim\u001b[0m \u001b[1;33m>\u001b[0m \u001b[1;36m2\u001b[0m \u001b[1;32mor\u001b[0m \u001b[0my\u001b[0m\u001b[1;33m.\u001b[0m\u001b[0mndim\u001b[0m \u001b[1;33m>\u001b[0m \u001b[1;36m2\u001b[0m\u001b[1;33m:\u001b[0m\u001b[1;33m\u001b[0m\u001b[1;33m\u001b[0m\u001b[0m\n",
      "\u001b[1;31mValueError\u001b[0m: x and y must have same first dimension, but have shapes (5,) and (0,)"
     ]
    },
    {
     "data": {
      "image/png": "[encoded data removed]",
      "text/plain": [
       "<Figure size 432x288 with 1 Axes>"
      ]
     },
     "metadata": {
      "needs_background": "light"
     },
     "output_type": "display_data"
    }
   ],
   "source": [
    "from IPython.display import display, HTML\n",
    "from sklearn.linear_model import LinearRegression\n",
    "from sklearn.metrics import r2_score\n",
    "from sklearn.pipeline import make_pipeline\n",
    "from sklearn.preprocessing import PolynomialFeatures\n",
    "import matplotlib.pyplot as plt\n",
    "\n",
    "def PolynomialRegression(degree=2, **kwargs):\n",
    "    return make_pipeline(PolynomialFeatures(degree), \n",
    "                         LinearRegression(**kwargs))\n",
    "\n",
    "\n",
    "polynomial_degrees = range(1, 10, 2)\n",
    "train_r2s = []\n",
    "test_r2s = []\n",
    "\n",
    "for degree in polynomial_degrees:\n",
    "    model = PolynomialRegression(degree)\n",
    "    display(HTML(f'Polynomial degree={degree}'))\n",
    "    \n",
    "    model.fit(X_train, y_train)\n",
    "    train_r2 = model.score(X_train, y_train)\n",
    "    test_r2 = model.score(X_test, y_test)\n",
    "    display(HTML(f'<b style=\"color: blue\">Train R2 {train_r2:.2f}</b>'))\n",
    "    display(HTML(f'<b style=\"color: red\">Test R2 {test_r2:.2f}</b>'))\n",
    "\n",
    "#     plt.scatter(X_train, y_train, color='blue', alpha=0.5)\n",
    "#     plt.scatter(X_test, y_test, color='red', alpha=0.5)\n",
    "#     plt.xlabel(features)\n",
    "#     plt.ylabel(target)\n",
    "    \n",
    "#     x_domain = np.linspace(X.min(), X.max())\n",
    "#     curve = model.predict(x_domain)\n",
    "#     plt.plot(x_domain, curve, color='blue')\n",
    "#     plt.show()\n",
    "#     display(HTML('<hr/>'))\n",
    "    \n",
    "#     train_r2s.append(train_r2)\n",
    "#     test_r2s.append(test_r2)\n",
    "    \n",
    "display(HTML('Validation Curve'))\n",
    "plt.plot(polynomial_degrees, train_r2s, color='blue', label='Train')\n",
    "plt.plot(polynomial_degrees, test_r2s, color='red', label='Test')\n",
    "plt.xlabel('Model Complexity (Polynomial Degree)')\n",
    "plt.ylabel('R^2 Score')\n",
    "plt.legend()\n",
    "plt.show()"
   ]
  },
  {
   "cell_type": "code",
   "execution_count": 42,
   "metadata": {},
   "outputs": [
    {
     "data": {
      "text/plain": [
       "[]"
      ]
     },
     "execution_count": 42,
     "metadata": {},
     "output_type": "execute_result"
    }
   ],
   "source": [
    "[i for i, j in zip(features, just_floats) if i == j]"
   ]
  },
  {
   "cell_type": "code",
   "execution_count": 43,
   "metadata": {},
   "outputs": [
    {
     "data": {
      "text/plain": [
       "['patient_ID',\n",
       " 'sop_Instance_UID',\n",
       " 'modality',\n",
       " 'slice_Location',\n",
       " 'table_Height',\n",
       " 'image_Position_Patient',\n",
       " 'image_Orientation_Patient',\n",
       " 'patient_Position',\n",
       " 'slice_Thickness',\n",
       " 'pixel_Spacing',\n",
       " 'Weeks',\n",
       " 'Percent',\n",
       " 'Age',\n",
       " 'Sex',\n",
       " 'SmokingStatus']"
      ]
     },
     "execution_count": 43,
     "metadata": {},
     "output_type": "execute_result"
    }
   ],
   "source": [
    "features"
   ]
  },
  {
   "cell_type": "code",
   "execution_count": 44,
   "metadata": {},
   "outputs": [
    {
     "data": {
      "text/html": [
       "<div>\n",
       "<style scoped>\n",
       "    .dataframe tbody tr th:only-of-type {\n",
       "        vertical-align: middle;\n",
       "    }\n",
       "\n",
       "    .dataframe tbody tr th {\n",
       "        vertical-align: top;\n",
       "    }\n",
       "\n",
       "    .dataframe thead th {\n",
       "        text-align: right;\n",
       "    }\n",
       "</style>\n",
       "<table border=\"1\" class=\"dataframe\">\n",
       "  <thead>\n",
       "    <tr style=\"text-align: right;\">\n",
       "      <th></th>\n",
       "      <th>Weeks</th>\n",
       "      <th>FVC</th>\n",
       "    </tr>\n",
       "  </thead>\n",
       "  <tbody>\n",
       "    <tr>\n",
       "      <th>0</th>\n",
       "      <td>-4.0</td>\n",
       "      <td>2315.0</td>\n",
       "    </tr>\n",
       "    <tr>\n",
       "      <th>1</th>\n",
       "      <td>5.0</td>\n",
       "      <td>2214.0</td>\n",
       "    </tr>\n",
       "    <tr>\n",
       "      <th>2</th>\n",
       "      <td>7.0</td>\n",
       "      <td>2061.0</td>\n",
       "    </tr>\n",
       "    <tr>\n",
       "      <th>3</th>\n",
       "      <td>9.0</td>\n",
       "      <td>2144.0</td>\n",
       "    </tr>\n",
       "    <tr>\n",
       "      <th>4</th>\n",
       "      <td>11.0</td>\n",
       "      <td>2069.0</td>\n",
       "    </tr>\n",
       "    <tr>\n",
       "      <th>...</th>\n",
       "      <td>...</td>\n",
       "      <td>...</td>\n",
       "    </tr>\n",
       "    <tr>\n",
       "      <th>33022</th>\n",
       "      <td>0.0</td>\n",
       "      <td>0.0</td>\n",
       "    </tr>\n",
       "    <tr>\n",
       "      <th>33023</th>\n",
       "      <td>0.0</td>\n",
       "      <td>0.0</td>\n",
       "    </tr>\n",
       "    <tr>\n",
       "      <th>33024</th>\n",
       "      <td>0.0</td>\n",
       "      <td>0.0</td>\n",
       "    </tr>\n",
       "    <tr>\n",
       "      <th>33025</th>\n",
       "      <td>0.0</td>\n",
       "      <td>0.0</td>\n",
       "    </tr>\n",
       "    <tr>\n",
       "      <th>33026</th>\n",
       "      <td>0.0</td>\n",
       "      <td>0.0</td>\n",
       "    </tr>\n",
       "  </tbody>\n",
       "</table>\n",
       "<p>33027 rows × 2 columns</p>\n",
       "</div>"
      ],
      "text/plain": [
       "       Weeks     FVC\n",
       "0       -4.0  2315.0\n",
       "1        5.0  2214.0\n",
       "2        7.0  2061.0\n",
       "3        9.0  2144.0\n",
       "4       11.0  2069.0\n",
       "...      ...     ...\n",
       "33022    0.0     0.0\n",
       "33023    0.0     0.0\n",
       "33024    0.0     0.0\n",
       "33025    0.0     0.0\n",
       "33026    0.0     0.0\n",
       "\n",
       "[33027 rows x 2 columns]"
      ]
     },
     "execution_count": 44,
     "metadata": {},
     "output_type": "execute_result"
    }
   ],
   "source": [
    "just_floats"
   ]
  },
  {
   "cell_type": "code",
   "execution_count": null,
   "metadata": {},
   "outputs": [],
   "source": [
    "features = ['Percent']\n",
    "target = 'FVC'\n",
    "X = df[features]\n",
    "y = df[target]\n",
    "\n",
    "X_train, X_test, y_train, y_test = train_test_split(X, y, random_state=11)\n",
    "# Credit for PolynomialRegression: Jake VanderPlas, Python Data Science Handbook, Chapter 5.3\n",
    "# https://jakevdp.github.io/PythonDataScienceHandbook/05.03-hyperparameters-and-model-validation.html#Validation-curves-in-Scikit-Learn\n",
    "def PolynomialRegression(degree=2, **kwargs):\n",
    "    return make_pipeline(PolynomialFeatures(degree), \n",
    "                         LinearRegression(**kwargs))\n",
    "\n",
    "\n",
    "polynomial_degrees = range(1, 10, 2)\n",
    "train_r2s = []\n",
    "test_r2s = []\n",
    "\n",
    "for degree in polynomial_degrees:\n",
    "    model = PolynomialRegression(degree)\n",
    "    display(HTML(f'Polynomial degree={degree}'))\n",
    "    \n",
    "    model.fit(X_train, y_train)\n",
    "    train_r2 = model.score(X_train, y_train)\n",
    "    test_r2 = model.score(X_test, y_test)\n",
    "    display(HTML(f'<b style=\"color: blue\">Train R2 {train_r2:.2f}</b>'))\n",
    "    display(HTML(f'<b style=\"color: red\">Test R2 {test_r2:.2f}</b>'))\n",
    "\n",
    "    plt.scatter(X_train, y_train, color='blue', alpha=0.5)\n",
    "    plt.scatter(X_test, y_test, color='red', alpha=0.5)\n",
    "    plt.xlabel(features)\n",
    "    plt.ylabel(target)\n",
    "    \n",
    "    x_domain = np.linspace(X.min(), X.max())\n",
    "    curve = model.predict(x_domain)\n",
    "    plt.plot(x_domain, curve, color='blue')\n",
    "    plt.show()\n",
    "    display(HTML('<hr/>'))\n",
    "    \n",
    "    train_r2s.append(train_r2)\n",
    "    test_r2s.append(test_r2)\n",
    "    \n",
    "display(HTML('Validation Curve'))\n",
    "plt.plot(polynomial_degrees, train_r2s, color='blue', label='Train')\n",
    "plt.plot(polynomial_degrees, test_r2s, color='red', label='Test')\n",
    "plt.xlabel('Model Complexity (Polynomial Degree)')\n",
    "plt.ylabel('R^2 Score')\n",
    "plt.legend()\n",
    "plt.show()"
   ]
  }
 ],
 "metadata": {
  "kernelspec": {
   "display_name": "KaggleKernel",
   "language": "python",
   "name": "kagglekernel"
  },
  "language_info": {
   "codemirror_mode": {
    "name": "ipython",
    "version": 3
   },
   "file_extension": ".py",
   "mimetype": "text/x-python",
   "name": "python",
   "nbconvert_exporter": "python",
   "pygments_lexer": "ipython3",
   "version": "3.7.4"
  }
 },
 "nbformat": 4,
 "nbformat_minor": 4
}

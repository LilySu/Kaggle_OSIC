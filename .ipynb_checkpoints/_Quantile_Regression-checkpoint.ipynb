{
 "cells": [
  {
   "cell_type": "code",
   "execution_count": null,
   "metadata": {},
   "outputs": [],
   "source": [
    "# import category_encoders as ce\n",
    "import matplotlib.pyplot as plt\n",
    "import numpy as np\n",
    "import pandas as pd\n",
    "import seaborn as sns\n",
    "from sklearn.impute import SimpleImputer\n",
    "from sklearn.metrics import accuracy_score\n",
    "from sklearn.model_selection import train_test_split\n",
    "from sklearn.pipeline import make_pipeline\n",
    "from sklearn.ensemble import RandomForestClassifier\n",
    "\n",
    "import pandas as pd\n",
    "import numpy as np\n",
    "import matplotlib.pyplot as plt\n",
    "import seaborn as sns\n",
    "import pydicom\n",
    "\n",
    "from pandas_profiling import ProfileReport\n",
    "\n",
    "from sklearn.model_selection import train_test_split\n",
    "import category_encoders as ce\n",
    "from sklearn.impute import SimpleImputer\n",
    "from sklearn.linear_model import LogisticRegression\n",
    "from sklearn.pipeline import make_pipeline\n",
    "from sklearn.preprocessing import StandardScaler\n",
    "\n",
    "from IPython.display import display, HTML\n",
    "from sklearn.linear_model import LinearRegression\n",
    "from sklearn.metrics import r2_score\n",
    "from sklearn.preprocessing import PolynomialFeatures\n",
    "\n",
    "from sklearn import tree\n",
    "%matplotlib inline\n",
    "\n",
    "import warnings\n",
    "warnings.filterwarnings('ignore')"
   ]
  },
  {
   "cell_type": "code",
   "execution_count": 63,
   "metadata": {},
   "outputs": [
    {
     "data": {
      "text/html": [
       "<div>\n",
       "<style scoped>\n",
       "    .dataframe tbody tr th:only-of-type {\n",
       "        vertical-align: middle;\n",
       "    }\n",
       "\n",
       "    .dataframe tbody tr th {\n",
       "        vertical-align: top;\n",
       "    }\n",
       "\n",
       "    .dataframe thead th {\n",
       "        text-align: right;\n",
       "    }\n",
       "</style>\n",
       "<table border=\"1\" class=\"dataframe\">\n",
       "  <thead>\n",
       "    <tr style=\"text-align: right;\">\n",
       "      <th></th>\n",
       "      <th>Patient_Week</th>\n",
       "      <th>FVC</th>\n",
       "      <th>Confidence</th>\n",
       "    </tr>\n",
       "  </thead>\n",
       "  <tbody>\n",
       "    <tr>\n",
       "      <th>0</th>\n",
       "      <td>ID00419637202311204720264_-12</td>\n",
       "      <td>2000</td>\n",
       "      <td>100</td>\n",
       "    </tr>\n",
       "    <tr>\n",
       "      <th>1</th>\n",
       "      <td>ID00421637202311550012437_-12</td>\n",
       "      <td>2000</td>\n",
       "      <td>100</td>\n",
       "    </tr>\n",
       "    <tr>\n",
       "      <th>2</th>\n",
       "      <td>ID00422637202311677017371_-12</td>\n",
       "      <td>2000</td>\n",
       "      <td>100</td>\n",
       "    </tr>\n",
       "  </tbody>\n",
       "</table>\n",
       "</div>"
      ],
      "text/plain": [
       "                    Patient_Week   FVC  Confidence\n",
       "0  ID00419637202311204720264_-12  2000         100\n",
       "1  ID00421637202311550012437_-12  2000         100\n",
       "2  ID00422637202311677017371_-12  2000         100"
      ]
     },
     "execution_count": 63,
     "metadata": {},
     "output_type": "execute_result"
    }
   ],
   "source": [
    "sub = pd.read_csv('data/sample_submission.csv')\n",
    "sub.head(3)"
   ]
  },
  {
   "cell_type": "markdown",
   "metadata": {},
   "source": [
    "![metric](https://imgur.com/B3gwVf8.jpg)\n",
    "\n",
    "## What to Predict\n",
    "1. Predict the FVC, Forced Vital [Lung] Capacity\n",
    "2. The Confidence column is the standard deviation of FVC\n",
    "\n",
    "## How the scoring works\n",
    "1. The competition will be scored where only the data with 70 percentile confidence/standard deviation will be evaluated\n",
    "2. If the FVC number is off by more than 1000, it will be penalized less (log(sqrt(2*standard deviation)))\n",
    "3. The average metric across 3 different weeks per patient for every patient will generate a final score. \n",
    "4. It will be negative, the higher the number, the better"
   ]
  },
  {
   "cell_type": "code",
   "execution_count": 2,
   "metadata": {},
   "outputs": [
    {
     "data": {
      "text/html": [
       "<div>\n",
       "<style scoped>\n",
       "    .dataframe tbody tr th:only-of-type {\n",
       "        vertical-align: middle;\n",
       "    }\n",
       "\n",
       "    .dataframe tbody tr th {\n",
       "        vertical-align: top;\n",
       "    }\n",
       "\n",
       "    .dataframe thead th {\n",
       "        text-align: right;\n",
       "    }\n",
       "</style>\n",
       "<table border=\"1\" class=\"dataframe\">\n",
       "  <thead>\n",
       "    <tr style=\"text-align: right;\">\n",
       "      <th></th>\n",
       "      <th>Patient</th>\n",
       "      <th>Weeks</th>\n",
       "      <th>FVC</th>\n",
       "      <th>Percent</th>\n",
       "      <th>Age</th>\n",
       "      <th>Sex</th>\n",
       "      <th>SmokingStatus</th>\n",
       "    </tr>\n",
       "  </thead>\n",
       "  <tbody>\n",
       "    <tr>\n",
       "      <th>0</th>\n",
       "      <td>ID00007637202177411956430</td>\n",
       "      <td>-4</td>\n",
       "      <td>2315</td>\n",
       "      <td>58.253649</td>\n",
       "      <td>79</td>\n",
       "      <td>Male</td>\n",
       "      <td>Ex-smoker</td>\n",
       "    </tr>\n",
       "    <tr>\n",
       "      <th>1</th>\n",
       "      <td>ID00007637202177411956430</td>\n",
       "      <td>5</td>\n",
       "      <td>2214</td>\n",
       "      <td>55.712129</td>\n",
       "      <td>79</td>\n",
       "      <td>Male</td>\n",
       "      <td>Ex-smoker</td>\n",
       "    </tr>\n",
       "    <tr>\n",
       "      <th>2</th>\n",
       "      <td>ID00007637202177411956430</td>\n",
       "      <td>7</td>\n",
       "      <td>2061</td>\n",
       "      <td>51.862104</td>\n",
       "      <td>79</td>\n",
       "      <td>Male</td>\n",
       "      <td>Ex-smoker</td>\n",
       "    </tr>\n",
       "    <tr>\n",
       "      <th>3</th>\n",
       "      <td>ID00007637202177411956430</td>\n",
       "      <td>9</td>\n",
       "      <td>2144</td>\n",
       "      <td>53.950679</td>\n",
       "      <td>79</td>\n",
       "      <td>Male</td>\n",
       "      <td>Ex-smoker</td>\n",
       "    </tr>\n",
       "    <tr>\n",
       "      <th>4</th>\n",
       "      <td>ID00007637202177411956430</td>\n",
       "      <td>11</td>\n",
       "      <td>2069</td>\n",
       "      <td>52.063412</td>\n",
       "      <td>79</td>\n",
       "      <td>Male</td>\n",
       "      <td>Ex-smoker</td>\n",
       "    </tr>\n",
       "  </tbody>\n",
       "</table>\n",
       "</div>"
      ],
      "text/plain": [
       "                     Patient  Weeks   FVC    Percent  Age   Sex SmokingStatus\n",
       "0  ID00007637202177411956430     -4  2315  58.253649   79  Male     Ex-smoker\n",
       "1  ID00007637202177411956430      5  2214  55.712129   79  Male     Ex-smoker\n",
       "2  ID00007637202177411956430      7  2061  51.862104   79  Male     Ex-smoker\n",
       "3  ID00007637202177411956430      9  2144  53.950679   79  Male     Ex-smoker\n",
       "4  ID00007637202177411956430     11  2069  52.063412   79  Male     Ex-smoker"
      ]
     },
     "execution_count": 2,
     "metadata": {},
     "output_type": "execute_result"
    }
   ],
   "source": [
    "df = pd.read_csv('data/train.csv')\n",
    "df.head()"
   ]
  },
  {
   "cell_type": "code",
   "execution_count": 3,
   "metadata": {},
   "outputs": [
    {
     "data": {
      "text/plain": [
       "0.47872326936005016"
      ]
     },
     "execution_count": 3,
     "metadata": {},
     "output_type": "execute_result"
    }
   ],
   "source": [
    "# How does linear regression handle it?\n",
    "from sklearn.linear_model import LinearRegression\n",
    "\n",
    "# Let's drop NAs and limit to numeric values\n",
    "df = df._get_numeric_data().dropna()\n",
    "X = df.drop('FVC', axis='columns')\n",
    "y = df['FVC']\n",
    "\n",
    "linear_reg = LinearRegression().fit(X, y)\n",
    "linear_reg.score(X, y)"
   ]
  },
  {
   "cell_type": "code",
   "execution_count": 4,
   "metadata": {},
   "outputs": [
    {
     "name": "stdout",
     "output_type": "stream",
     "text": [
      "FVC ~ Weeks + Percent + Age\n"
     ]
    },
    {
     "data": {
      "text/html": [
       "<table class=\"simpletable\">\n",
       "<caption>QuantReg Regression Results</caption>\n",
       "<tr>\n",
       "  <th>Dep. Variable:</th>        <td>FVC</td>       <th>  Pseudo R-squared:  </th> <td>  0.3438</td>\n",
       "</tr>\n",
       "<tr>\n",
       "  <th>Model:</th>             <td>QuantReg</td>     <th>  Bandwidth:         </th> <td>   181.2</td>\n",
       "</tr>\n",
       "<tr>\n",
       "  <th>Method:</th>          <td>Least Squares</td>  <th>  Sparsity:          </th> <td>   833.6</td>\n",
       "</tr>\n",
       "<tr>\n",
       "  <th>Date:</th>          <td>Mon, 03 Aug 2020</td> <th>  No. Observations:  </th>  <td>  1549</td> \n",
       "</tr>\n",
       "<tr>\n",
       "  <th>Time:</th>              <td>12:38:37</td>     <th>  Df Residuals:      </th>  <td>  1545</td> \n",
       "</tr>\n",
       "<tr>\n",
       "  <th> </th>                      <td> </td>        <th>  Df Model:          </th>  <td>     3</td> \n",
       "</tr>\n",
       "</table>\n",
       "<table class=\"simpletable\">\n",
       "<tr>\n",
       "      <td></td>         <th>coef</th>     <th>std err</th>      <th>t</th>      <th>P>|t|</th>  <th>[0.025</th>    <th>0.975]</th>  \n",
       "</tr>\n",
       "<tr>\n",
       "  <th>Intercept</th> <td> 1303.0025</td> <td>  108.336</td> <td>   12.027</td> <td> 0.000</td> <td> 1090.501</td> <td> 1515.504</td>\n",
       "</tr>\n",
       "<tr>\n",
       "  <th>Weeks</th>     <td>   -1.4935</td> <td>    0.456</td> <td>   -3.272</td> <td> 0.001</td> <td>   -2.389</td> <td>   -0.598</td>\n",
       "</tr>\n",
       "<tr>\n",
       "  <th>Percent</th>   <td>   32.8807</td> <td>    0.537</td> <td>   61.246</td> <td> 0.000</td> <td>   31.828</td> <td>   33.934</td>\n",
       "</tr>\n",
       "<tr>\n",
       "  <th>Age</th>       <td>  -14.4928</td> <td>    1.511</td> <td>   -9.594</td> <td> 0.000</td> <td>  -17.456</td> <td>  -11.530</td>\n",
       "</tr>\n",
       "</table><br/><br/>The condition number is large, 1.11e+03. This might indicate that there are<br/>strong multicollinearity or other numerical problems."
      ],
      "text/plain": [
       "<class 'statsmodels.iolib.summary.Summary'>\n",
       "\"\"\"\n",
       "                         QuantReg Regression Results                          \n",
       "==============================================================================\n",
       "Dep. Variable:                    FVC   Pseudo R-squared:               0.3438\n",
       "Model:                       QuantReg   Bandwidth:                       181.2\n",
       "Method:                 Least Squares   Sparsity:                        833.6\n",
       "Date:                Mon, 03 Aug 2020   No. Observations:                 1549\n",
       "Time:                        12:38:37   Df Residuals:                     1545\n",
       "                                        Df Model:                            3\n",
       "==============================================================================\n",
       "                 coef    std err          t      P>|t|      [0.025      0.975]\n",
       "------------------------------------------------------------------------------\n",
       "Intercept   1303.0025    108.336     12.027      0.000    1090.501    1515.504\n",
       "Weeks         -1.4935      0.456     -3.272      0.001      -2.389      -0.598\n",
       "Percent       32.8807      0.537     61.246      0.000      31.828      33.934\n",
       "Age          -14.4928      1.511     -9.594      0.000     -17.456     -11.530\n",
       "==============================================================================\n",
       "\n",
       "The condition number is large, 1.11e+03. This might indicate that there are\n",
       "strong multicollinearity or other numerical problems.\n",
       "\"\"\""
      ]
     },
     "execution_count": 4,
     "metadata": {},
     "output_type": "execute_result"
    }
   ],
   "source": [
    "# Tutorial from: https://github.com/LambdaSchool/DS-Unit-2-Sprint-3-Advanced-Regression/blob/master/module3-quantile-regression/LS_DS_233_Quantile_Regression.ipynb\n",
    "\n",
    "# Not bad - but what if we wanted to model the distribution more conservatively?\n",
    "# Let's try quantile\n",
    "import statsmodels.formula.api as smf\n",
    "\n",
    "# Different jargon/API in StatsModel documentation\n",
    "# \"endogenous\" response var is dependent (y), it is \"inside\"\n",
    "# \"exogenous\" variables are independent (X), it is \"outside\"\n",
    "# Bonus points - talk about \"exogenous shocks\" and you're a bona fide economist\n",
    "\n",
    "# ~ style formulas look like what R uses\n",
    "# y ~ x1 + x2 + ...\n",
    "# Also, these formulas break with . in variable name, so lets change that\n",
    "\n",
    "# Now let's construct the formula string using all columns\n",
    "quant_formula = 'FVC ~ ' + ' + '.join(df.drop('FVC', axis='columns').columns)\n",
    "print(quant_formula)\n",
    "\n",
    "quant_mod = smf.quantreg(quant_formula, data=df)\n",
    "quant_reg = quant_mod.fit(q=.5)\n",
    "quant_reg.summary()  # \"summary\" is another very R-thing"
   ]
  },
  {
   "cell_type": "code",
   "execution_count": 6,
   "metadata": {},
   "outputs": [
    {
     "name": "stdout",
     "output_type": "stream",
     "text": [
      "                         QuantReg Regression Results                          \n",
      "==============================================================================\n",
      "Dep. Variable:                    FVC   Pseudo R-squared:               0.1271\n",
      "Model:                       QuantReg   Bandwidth:                       217.7\n",
      "Method:                 Least Squares   Sparsity:                        3532.\n",
      "Date:                Mon, 03 Aug 2020   No. Observations:                 1549\n",
      "Time:                        12:44:09   Df Residuals:                     1545\n",
      "                                        Df Model:                            3\n",
      "==============================================================================\n",
      "                 coef    std err          t      P>|t|      [0.025      0.975]\n",
      "------------------------------------------------------------------------------\n",
      "Intercept   1290.6976    215.543      5.988      0.000     867.909    1713.486\n",
      "Weeks          1.3577      0.849      1.599      0.110      -0.308       3.024\n",
      "Percent       14.5237      1.182     12.288      0.000      12.205      16.842\n",
      "Age          -13.6244      2.670     -5.102      0.000     -18.862      -8.387\n",
      "==============================================================================\n",
      "\n",
      "The condition number is large, 1.11e+03. This might indicate that there are\n",
      "strong multicollinearity or other numerical problems.\n",
      "                         QuantReg Regression Results                          \n",
      "==============================================================================\n",
      "Dep. Variable:                    FVC   Pseudo R-squared:               0.5700\n",
      "Model:                       QuantReg   Bandwidth:                       175.0\n",
      "Method:                 Least Squares   Sparsity:                        2998.\n",
      "Date:                Mon, 03 Aug 2020   No. Observations:                 1549\n",
      "Time:                        12:44:09   Df Residuals:                     1545\n",
      "                                        Df Model:                            3\n",
      "==============================================================================\n",
      "                 coef    std err          t      P>|t|      [0.025      0.975]\n",
      "------------------------------------------------------------------------------\n",
      "Intercept   1687.4069    102.421     16.475      0.000    1486.508    1888.306\n",
      "Weeks          0.5543      0.766      0.724      0.469      -0.948       2.056\n",
      "Percent       40.7151      0.636     63.984      0.000      39.467      41.963\n",
      "Age          -21.3850      1.794    -11.922      0.000     -24.904     -17.867\n",
      "==============================================================================\n",
      "\n",
      "The condition number is large, 1.11e+03. This might indicate that there are\n",
      "strong multicollinearity or other numerical problems.\n",
      "                         QuantReg Regression Results                          \n",
      "==============================================================================\n",
      "Dep. Variable:                    FVC   Pseudo R-squared:               0.1036\n",
      "Model:                       QuantReg   Bandwidth:                       198.3\n",
      "Method:                 Least Squares   Sparsity:                        3125.\n",
      "Date:                Mon, 03 Aug 2020   No. Observations:                 1549\n",
      "Time:                        12:44:09   Df Residuals:                     1545\n",
      "                                        Df Model:                            3\n",
      "==============================================================================\n",
      "                 coef    std err          t      P>|t|      [0.025      0.975]\n",
      "------------------------------------------------------------------------------\n",
      "Intercept    946.2470    255.853      3.698      0.000     444.391    1448.103\n",
      "Weeks          1.2256      1.000      1.225      0.221      -0.736       3.187\n",
      "Percent       15.9045      1.351     11.776      0.000      13.255      18.554\n",
      "Age           -7.5022      3.351     -2.239      0.025     -14.075      -0.929\n",
      "==============================================================================\n",
      "\n",
      "The condition number is large, 1.11e+03. This might indicate that there are\n",
      "strong multicollinearity or other numerical problems.\n"
     ]
    }
   ],
   "source": [
    "# Tutorial from: https://github.com/LambdaSchool/DS-Unit-2-Sprint-3-Advanced-Regression/blob/master/module3-quantile-regression/LS_DS_233_Quantile_Regression.ipynb\n",
    "\n",
    "quantiles = (.05, .96, .1)\n",
    "\n",
    "for quantile in quantiles:\n",
    "    print(quant_mod.fit(q=quantile).summary())"
   ]
  },
  {
   "cell_type": "code",
   "execution_count": 7,
   "metadata": {},
   "outputs": [
    {
     "name": "stdout",
     "output_type": "stream",
     "text": [
      "(0.5, 0.34377689858131477)\n",
      "(0.51, 0.34889696862906583)\n",
      "(0.52, 0.3536951685582135)\n",
      "(0.53, 0.3583515792715152)\n",
      "(0.54, 0.3628582749589825)\n",
      "(0.55, 0.3671495043363533)\n",
      "(0.56, 0.3711925645127211)\n",
      "(0.57, 0.37515257537105373)\n",
      "(0.58, 0.3791061979418928)\n",
      "(0.59, 0.38314062124454806)\n",
      "(0.6, 0.3871987910796666)\n",
      "(0.61, 0.3913397993131864)\n",
      "(0.62, 0.3954923038576541)\n",
      "(0.63, 0.3996917900126338)\n",
      "(0.64, 0.40388603435229964)\n",
      "(0.65, 0.40809467237153396)\n",
      "(0.66, 0.4122169641828193)\n",
      "(0.67, 0.4163131679178951)\n",
      "(0.68, 0.4206402077948205)\n",
      "(0.69, 0.4251210490112036)\n",
      "(0.7, 0.430200594471038)\n",
      "(0.71, 0.43533051923428234)\n",
      "(0.72, 0.44064325125574544)\n",
      "(0.73, 0.44589500954551253)\n",
      "(0.74, 0.4512904091319069)\n",
      "(0.75, 0.4565098976044496)\n",
      "(0.76, 0.46155288799897853)\n",
      "(0.77, 0.4664511562609165)\n",
      "(0.78, 0.4712355695751377)\n",
      "(0.79, 0.4760734359620289)\n",
      "(0.8, 0.4811513116500178)\n",
      "(0.81, 0.486280339563824)\n",
      "(0.82, 0.49292585937774147)\n",
      "(0.83, 0.49962935665287633)\n",
      "(0.84, 0.5062844050986264)\n",
      "(0.85, 0.5129759827250315)\n",
      "(0.86, 0.5195945373984601)\n",
      "(0.87, 0.5265315892030589)\n",
      "(0.88, 0.5327950852618918)\n",
      "(0.89, 0.5372905257665361)\n",
      "(0.9, 0.5420393758871465)\n",
      "(0.91, 0.5467444984548577)\n",
      "(0.92, 0.5510472932110588)\n",
      "(0.93, 0.5545826225385468)\n",
      "(0.94, 0.5580464192386345)\n",
      "(0.95, 0.5641130344062426)\n",
      "(0.96, 0.5700479888778927)\n",
      "(0.97, 0.5786353926971967)\n",
      "(0.98, 0.6002310466713612)\n",
      "(0.99, 0.6452198930403175)\n"
     ]
    }
   ],
   "source": [
    "# Tutorial from: https://github.com/LambdaSchool/DS-Unit-2-Sprint-3-Advanced-Regression/blob/master/module3-quantile-regression/LS_DS_233_Quantile_Regression.ipynb\n",
    "\n",
    "# multicollinearity - maybe we shouldn't throw every variable in our formula. \n",
    "quant_formula = 'FVC ~ Weeks + Percent + Age'\n",
    "quant_mod = smf.quantreg(quant_formula, data=df)\n",
    "for quantile in range(50, 100):\n",
    "    quantile /= 100\n",
    "    quant_reg = quant_mod.fit(q=quantile)\n",
    "    print((quantile, quant_reg.prsquared))"
   ]
  },
  {
   "cell_type": "code",
   "execution_count": 13,
   "metadata": {},
   "outputs": [
    {
     "data": {
      "text/html": [
       "<table class=\"simpletable\">\n",
       "<caption>QuantReg Regression Results</caption>\n",
       "<tr>\n",
       "  <th>Dep. Variable:</th>        <td>FVC</td>       <th>  Pseudo R-squared:  </th> <td>  0.6452</td>\n",
       "</tr>\n",
       "<tr>\n",
       "  <th>Model:</th>             <td>QuantReg</td>     <th>  Bandwidth:         </th> <td>   247.7</td>\n",
       "</tr>\n",
       "<tr>\n",
       "  <th>Method:</th>          <td>Least Squares</td>  <th>  Sparsity:          </th> <td>   7552.</td>\n",
       "</tr>\n",
       "<tr>\n",
       "  <th>Date:</th>          <td>Mon, 03 Aug 2020</td> <th>  No. Observations:  </th>  <td>  1549</td> \n",
       "</tr>\n",
       "<tr>\n",
       "  <th>Time:</th>              <td>20:42:52</td>     <th>  Df Residuals:      </th>  <td>  1545</td> \n",
       "</tr>\n",
       "<tr>\n",
       "  <th> </th>                      <td> </td>        <th>  Df Model:          </th>  <td>     3</td> \n",
       "</tr>\n",
       "</table>\n",
       "<table class=\"simpletable\">\n",
       "<tr>\n",
       "      <td></td>         <th>coef</th>     <th>std err</th>      <th>t</th>      <th>P>|t|</th>  <th>[0.025</th>    <th>0.975]</th>  \n",
       "</tr>\n",
       "<tr>\n",
       "  <th>Intercept</th> <td> 2447.4686</td> <td>  137.339</td> <td>   17.821</td> <td> 0.000</td> <td> 2178.078</td> <td> 2716.859</td>\n",
       "</tr>\n",
       "<tr>\n",
       "  <th>Weeks</th>     <td>   -1.3029</td> <td>    0.866</td> <td>   -1.505</td> <td> 0.133</td> <td>   -3.001</td> <td>    0.396</td>\n",
       "</tr>\n",
       "<tr>\n",
       "  <th>Percent</th>   <td>   42.1985</td> <td>    0.878</td> <td>   48.078</td> <td> 0.000</td> <td>   40.477</td> <td>   43.920</td>\n",
       "</tr>\n",
       "<tr>\n",
       "  <th>Age</th>       <td>  -30.3325</td> <td>    2.641</td> <td>  -11.485</td> <td> 0.000</td> <td>  -35.513</td> <td>  -25.152</td>\n",
       "</tr>\n",
       "</table><br/><br/>The condition number is large, 1.11e+03. This might indicate that there are<br/>strong multicollinearity or other numerical problems."
      ],
      "text/plain": [
       "<class 'statsmodels.iolib.summary.Summary'>\n",
       "\"\"\"\n",
       "                         QuantReg Regression Results                          \n",
       "==============================================================================\n",
       "Dep. Variable:                    FVC   Pseudo R-squared:               0.6452\n",
       "Model:                       QuantReg   Bandwidth:                       247.7\n",
       "Method:                 Least Squares   Sparsity:                        7552.\n",
       "Date:                Mon, 03 Aug 2020   No. Observations:                 1549\n",
       "Time:                        20:42:52   Df Residuals:                     1545\n",
       "                                        Df Model:                            3\n",
       "==============================================================================\n",
       "                 coef    std err          t      P>|t|      [0.025      0.975]\n",
       "------------------------------------------------------------------------------\n",
       "Intercept   2447.4686    137.339     17.821      0.000    2178.078    2716.859\n",
       "Weeks         -1.3029      0.866     -1.505      0.133      -3.001       0.396\n",
       "Percent       42.1985      0.878     48.078      0.000      40.477      43.920\n",
       "Age          -30.3325      2.641    -11.485      0.000     -35.513     -25.152\n",
       "==============================================================================\n",
       "\n",
       "The condition number is large, 1.11e+03. This might indicate that there are\n",
       "strong multicollinearity or other numerical problems.\n",
       "\"\"\""
      ]
     },
     "execution_count": 13,
     "metadata": {},
     "output_type": "execute_result"
    }
   ],
   "source": [
    "# ==============================================================================\n",
    "# ==============================================================================\n",
    "# =============================================================================="
   ]
  },
  {
   "cell_type": "code",
   "execution_count": 9,
   "metadata": {},
   "outputs": [
    {
     "data": {
      "text/html": [
       "<div>\n",
       "<style scoped>\n",
       "    .dataframe tbody tr th:only-of-type {\n",
       "        vertical-align: middle;\n",
       "    }\n",
       "\n",
       "    .dataframe tbody tr th {\n",
       "        vertical-align: top;\n",
       "    }\n",
       "\n",
       "    .dataframe thead th {\n",
       "        text-align: right;\n",
       "    }\n",
       "</style>\n",
       "<table border=\"1\" class=\"dataframe\">\n",
       "  <thead>\n",
       "    <tr style=\"text-align: right;\">\n",
       "      <th></th>\n",
       "      <th>income</th>\n",
       "      <th>foodexp</th>\n",
       "    </tr>\n",
       "  </thead>\n",
       "  <tbody>\n",
       "    <tr>\n",
       "      <th>0</th>\n",
       "      <td>420.157651</td>\n",
       "      <td>255.839425</td>\n",
       "    </tr>\n",
       "    <tr>\n",
       "      <th>1</th>\n",
       "      <td>541.411707</td>\n",
       "      <td>310.958667</td>\n",
       "    </tr>\n",
       "    <tr>\n",
       "      <th>2</th>\n",
       "      <td>901.157457</td>\n",
       "      <td>485.680014</td>\n",
       "    </tr>\n",
       "    <tr>\n",
       "      <th>3</th>\n",
       "      <td>639.080229</td>\n",
       "      <td>402.997356</td>\n",
       "    </tr>\n",
       "    <tr>\n",
       "      <th>4</th>\n",
       "      <td>750.875606</td>\n",
       "      <td>495.560775</td>\n",
       "    </tr>\n",
       "  </tbody>\n",
       "</table>\n",
       "</div>"
      ],
      "text/plain": [
       "       income     foodexp\n",
       "0  420.157651  255.839425\n",
       "1  541.411707  310.958667\n",
       "2  901.157457  485.680014\n",
       "3  639.080229  402.997356\n",
       "4  750.875606  495.560775"
      ]
     },
     "execution_count": 9,
     "metadata": {},
     "output_type": "execute_result"
    }
   ],
   "source": [
    "# Tutorial from: https://www.statsmodels.org/dev/examples/notebooks/generated/quantile_regression.html\n",
    "\n",
    "import statsmodels.api as sm\n",
    "\n",
    "data = sm.datasets.engel.load_pandas().data\n",
    "data.head()"
   ]
  },
  {
   "cell_type": "code",
   "execution_count": 10,
   "metadata": {},
   "outputs": [
    {
     "name": "stdout",
     "output_type": "stream",
     "text": [
      "                         QuantReg Regression Results                          \n",
      "==============================================================================\n",
      "Dep. Variable:                foodexp   Pseudo R-squared:               0.6206\n",
      "Model:                       QuantReg   Bandwidth:                       64.51\n",
      "Method:                 Least Squares   Sparsity:                        209.3\n",
      "Date:                Mon, 03 Aug 2020   No. Observations:                  235\n",
      "Time:                        12:46:26   Df Residuals:                      233\n",
      "                                        Df Model:                            1\n",
      "==============================================================================\n",
      "                 coef    std err          t      P>|t|      [0.025      0.975]\n",
      "------------------------------------------------------------------------------\n",
      "Intercept     81.4823     14.634      5.568      0.000      52.649     110.315\n",
      "income         0.5602      0.013     42.516      0.000       0.534       0.586\n",
      "==============================================================================\n",
      "\n",
      "The condition number is large, 2.38e+03. This might indicate that there are\n",
      "strong multicollinearity or other numerical problems.\n"
     ]
    }
   ],
   "source": [
    "# Tutorial from: https://www.statsmodels.org/dev/examples/notebooks/generated/quantile_regression.html\n",
    "\n",
    "mod = smf.quantreg('foodexp ~ income', data)\n",
    "res = mod.fit(q=.5)\n",
    "print(res.summary())"
   ]
  },
  {
   "cell_type": "code",
   "execution_count": 11,
   "metadata": {},
   "outputs": [
    {
     "name": "stdout",
     "output_type": "stream",
     "text": [
      "      q           a         b        lb        ub\n",
      "0  0.05  124.880095  0.343361  0.268632  0.418090\n",
      "1  0.15  111.693660  0.423708  0.382780  0.464636\n",
      "2  0.25   95.483539  0.474103  0.439900  0.508306\n",
      "3  0.35  105.841294  0.488901  0.457759  0.520043\n",
      "4  0.45   81.083647  0.552428  0.525021  0.579835\n",
      "5  0.55   89.661370  0.565601  0.540955  0.590247\n",
      "6  0.65   74.033435  0.604576  0.582169  0.626982\n",
      "7  0.75   62.396584  0.644014  0.622411  0.665617\n",
      "8  0.85   52.272216  0.677603  0.657383  0.697823\n",
      "9  0.95   64.103964  0.709069  0.687831  0.730306\n",
      "{'a': 147.47538852370573, 'b': 0.48517842367692354, 'lb': 0.4568738130184233, 'ub': 0.5134830343354237}\n"
     ]
    }
   ],
   "source": [
    "# Tutorial from: https://www.statsmodels.org/dev/examples/notebooks/generated/quantile_regression.html\n",
    "\n",
    "# For convenience, we place the quantile regression results in a Pandas DataFrame, and the OLS results in a dictionary.\n",
    "\n",
    "quantiles = np.arange(.05, .96, .1)\n",
    "def fit_model(q):\n",
    "    res = mod.fit(q=q)\n",
    "    return [q, res.params['Intercept'], res.params['income']] + \\\n",
    "            res.conf_int().loc['income'].tolist()\n",
    "\n",
    "models = [fit_model(x) for x in quantiles]\n",
    "models = pd.DataFrame(models, columns=['q', 'a', 'b', 'lb', 'ub'])\n",
    "\n",
    "ols = smf.ols('foodexp ~ income', data).fit()\n",
    "ols_ci = ols.conf_int().loc['income'].tolist()\n",
    "ols = dict(a = ols.params['Intercept'],\n",
    "           b = ols.params['income'],\n",
    "           lb = ols_ci[0],\n",
    "           ub = ols_ci[1])\n",
    "\n",
    "print(models)\n",
    "print(ols)"
   ]
  },
  {
   "cell_type": "code",
   "execution_count": 12,
   "metadata": {},
   "outputs": [
    {
     "data": {
      "image/png": "[encoded data removed]",
      "text/plain": [
       "<Figure size 576x432 with 1 Axes>"
      ]
     },
     "metadata": {
      "needs_background": "light"
     },
     "output_type": "display_data"
    }
   ],
   "source": [
    "# Tutorial from: https://www.statsmodels.org/dev/examples/notebooks/generated/quantile_regression.html\n",
    "\n",
    "x = np.arange(data.income.min(), data.income.max(), 50)\n",
    "get_y = lambda a, b: a + b * x\n",
    "\n",
    "fig, ax = plt.subplots(figsize=(8, 6))\n",
    "\n",
    "for i in range(models.shape[0]):\n",
    "    y = get_y(models.a[i], models.b[i])\n",
    "    ax.plot(x, y, linestyle='dotted', color='grey')\n",
    "\n",
    "y = get_y(ols['a'], ols['b'])\n",
    "\n",
    "ax.plot(x, y, color='red', label='OLS')\n",
    "ax.scatter(data.income, data.foodexp, alpha=.2)\n",
    "ax.set_xlim((240, 3000))\n",
    "ax.set_ylim((240, 2000))\n",
    "legend = ax.legend()\n",
    "ax.set_xlabel('Income', fontsize=16)\n",
    "ax.set_ylabel('Food expenditure', fontsize=16);"
   ]
  },
  {
   "cell_type": "code",
   "execution_count": 14,
   "metadata": {},
   "outputs": [
    {
     "name": "stdout",
     "output_type": "stream",
     "text": [
      "RV : \n",
      " <scipy.stats._distn_infrastructure.rv_frozen object at 0x000001E3B32970C8>\n"
     ]
    }
   ],
   "source": [
    "# ==============================================================================\n",
    "# ==============================================================================\n",
    "# ==============================================================================\n",
    "\n",
    "#  Creating log-Laplace continuous random variable\n",
    "\n",
    "from scipy.stats import loglaplace \n",
    "\t\n",
    "numargs = loglaplace.numargs \n",
    "a, b = 4.32, 3.18\n",
    "rv = loglaplace(a, b) \n",
    "\t\n",
    "print (\"RV : \\n\", rv) \n"
   ]
  },
  {
   "cell_type": "code",
   "execution_count": 15,
   "metadata": {},
   "outputs": [
    {
     "name": "stdout",
     "output_type": "stream",
     "text": [
      "Random Variates : \n",
      " 3.85887864929731\n",
      "\n",
      "Probability Distribution : \n",
      " [0.00354227 0.00390749 0.00432054 0.0047891  0.00532229 0.00593104\n",
      " 0.00662848 0.00743048 0.00835629 0.00942939]\n"
     ]
    }
   ],
   "source": [
    "# tutorial from: https://www.geeksforgeeks.org/python-log-laplace-distribution-in-statistics/\n",
    "\n",
    "#  log-Laplace continuous variates and probability distribution\n",
    "import numpy as np  \n",
    "quantile = np.arange (0.01, 1, 0.1)  \n",
    "  \n",
    "# Random Variates  \n",
    "R = loglaplace.rvs(a, b)  \n",
    "print (\"Random Variates : \\n\", R)  \n",
    "  \n",
    "# PDF  \n",
    "R = loglaplace.pdf(a, b, quantile)  \n",
    "print (\"\\nProbability Distribution : \\n\", R)  "
   ]
  },
  {
   "cell_type": "code",
   "execution_count": 16,
   "metadata": {},
   "outputs": [
    {
     "name": "stdout",
     "output_type": "stream",
     "text": [
      "Distribution : \n",
      " [0.         0.06122449 0.12244898 0.18367347 0.24489796 0.30612245\n",
      " 0.36734694 0.42857143 0.48979592 0.55102041 0.6122449  0.67346939\n",
      " 0.73469388 0.79591837 0.85714286 0.91836735 0.97959184 1.04081633\n",
      " 1.10204082 1.16326531 1.2244898  1.28571429 1.34693878 1.40816327\n",
      " 1.46938776 1.53061224 1.59183673 1.65306122 1.71428571 1.7755102\n",
      " 1.83673469 1.89795918 1.95918367 2.02040816 2.08163265 2.14285714\n",
      " 2.20408163 2.26530612 2.32653061 2.3877551  2.44897959 2.51020408\n",
      " 2.57142857 2.63265306 2.69387755 2.75510204 2.81632653 2.87755102\n",
      " 2.93877551 3.        ]\n"
     ]
    },
    {
     "data": {
      "image/png": "[encoded data removed]",
      "text/plain": [
       "<Figure size 432x288 with 1 Axes>"
      ]
     },
     "metadata": {
      "needs_background": "light"
     },
     "output_type": "display_data"
    }
   ],
   "source": [
    "# tutorial from: https://www.geeksforgeeks.org/python-log-laplace-distribution-in-statistics/\n",
    "\n",
    "# Graphical Representation.\n",
    "\n",
    "import numpy as np  \n",
    "import matplotlib.pyplot as plt  \n",
    "     \n",
    "distribution = np.linspace(0, np.minimum(rv.dist.b, 3))  \n",
    "print(\"Distribution : \\n\", distribution)  \n",
    "     \n",
    "plot = plt.plot(distribution, rv.pdf(distribution))  "
   ]
  },
  {
   "cell_type": "code",
   "execution_count": 17,
   "metadata": {},
   "outputs": [
    {
     "data": {
      "text/plain": [
       "[<matplotlib.lines.Line2D at 0x1e3b333d7c8>,\n",
       " <matplotlib.lines.Line2D at 0x1e3b332f248>]"
      ]
     },
     "execution_count": 17,
     "metadata": {},
     "output_type": "execute_result"
    },
    {
     "data": {
      "image/png": "[encoded data removed]",
      "text/plain": [
       "<Figure size 432x288 with 1 Axes>"
      ]
     },
     "metadata": {
      "needs_background": "light"
     },
     "output_type": "display_data"
    }
   ],
   "source": [
    "# tutorial from: https://www.geeksforgeeks.org/python-log-laplace-distribution-in-statistics/\n",
    "\n",
    "import matplotlib.pyplot as plt  \n",
    "import numpy as np  \n",
    "     \n",
    "x = np.linspace(0, 5, 100)  \n",
    "     \n",
    "# Varying positional arguments  \n",
    "y1 = loglaplace .pdf(x, 1, 3)  \n",
    "y2 = loglaplace .pdf(x, 1, 4)  \n",
    "plt.plot(x, y1, \"*\", x, y2, \"r--\")  \n"
   ]
  },
  {
   "cell_type": "code",
   "execution_count": 18,
   "metadata": {},
   "outputs": [
    {
     "data": {
      "text/plain": [
       "<AxesSubplot:xlabel='x', ylabel='y1'>"
      ]
     },
     "execution_count": 18,
     "metadata": {},
     "output_type": "execute_result"
    },
    {
     "data": {
      "image/png": "[encoded data removed]",
      "text/plain": [
       "<Figure size 432x288 with 1 Axes>"
      ]
     },
     "metadata": {
      "needs_background": "light"
     },
     "output_type": "display_data"
    }
   ],
   "source": [
    "# ==============================================================================\n",
    "# ==============================================================================\n",
    "# ==============================================================================\n",
    "\n",
    "# tutorial from: https://medium.com/data-shopify/how-shopify-capital-uses-quantile-regression-to-help-merchants-succeed-10ee1b36b17d\n",
    "\n",
    "import numpy as np\n",
    "import pandas as pd\n",
    "N, m, s1, s2, xmax = 1000, 1.5, 0.5, 2.0, 10\n",
    "x = np.random.uniform(0,xmax,N)\n",
    "e1 = np.random.normal(0,s1,N)\n",
    "e2 = np.random.normal(0,s2,N)\n",
    "y1 = m*x + e1\n",
    "y2 = m*x + e2\n",
    "data = pd.DataFrame({'x': x, 'y1': y1, 'y2': y2})\n",
    "data.plot(x='x', y='y1', kind='scatter')"
   ]
  },
  {
   "cell_type": "code",
   "execution_count": 19,
   "metadata": {},
   "outputs": [
    {
     "data": {
      "text/plain": [
       "<AxesSubplot:xlabel='x', ylabel='y2'>"
      ]
     },
     "execution_count": 19,
     "metadata": {},
     "output_type": "execute_result"
    },
    {
     "data": {
      "image/png": "[encoded data removed]",
      "text/plain": [
       "<Figure size 432x288 with 1 Axes>"
      ]
     },
     "metadata": {
      "needs_background": "light"
     },
     "output_type": "display_data"
    }
   ],
   "source": [
    "# tutorial from: https://medium.com/data-shopify/how-shopify-capital-uses-quantile-regression-to-help-merchants-succeed-10ee1b36b17d\n",
    "\n",
    "data.plot(x='x', y='y2', kind='scatter')"
   ]
  },
  {
   "cell_type": "code",
   "execution_count": 21,
   "metadata": {},
   "outputs": [],
   "source": [
    "# tutorial from: https://medium.com/data-shopify/how-shopify-capital-uses-quantile-regression-to-help-merchants-succeed-10ee1b36b17d\n",
    "\n",
    "from scipy.optimize import minimize\n",
    "def square_deviation_y1(p):\n",
    "    return np.sum( (y1 - p[0]*x - p[1])**2 )\n",
    "def square_deviation_y2(p):\n",
    "    return np.sum( (y2 - p[0]*x - p[1])**2 )\n",
    "m1, b1 = minimize(square_deviation_y1, [0,0]).x\n",
    "m2, b2 = minimize(square_deviation_y2, [0,0]).x"
   ]
  },
  {
   "cell_type": "code",
   "execution_count": 39,
   "metadata": {},
   "outputs": [
    {
     "data": {
      "text/plain": [
       "[<matplotlib.lines.Line2D at 0x1e3b4a0a6c8>]"
      ]
     },
     "execution_count": 39,
     "metadata": {},
     "output_type": "execute_result"
    },
    {
     "data": {
      "image/png": "[encoded data removed]",
      "text/plain": [
       "<Figure size 432x288 with 1 Axes>"
      ]
     },
     "metadata": {
      "needs_background": "light"
     },
     "output_type": "display_data"
    }
   ],
   "source": [
    "# tutorial from: https://medium.com/data-shopify/how-shopify-capital-uses-quantile-regression-to-help-merchants-succeed-10ee1b36b17d\n",
    "\n",
    "def quantile_loss_y1(q):\n",
    "    def quantile_deviation(p):\n",
    "        z = y1 - p[0]*x - p[1]\n",
    "        return np.sum(np.where(z < 0, z * (q-1), z * q))\n",
    "    return quantile_deviation\n",
    "def quantile_loss_y2(q):\n",
    "    def quantile_deviation(p):\n",
    "        z = y2 - p[0]*x - p[1]\n",
    "        return np.sum(np.where(z < 0, z * (q-1), z * q))\n",
    "    return quantile_deviation\n",
    "m1_q10, b1_q10 = minimize(quantile_loss_y1(0.10), [1.5,0]).x\n",
    "m1_q90, b1_q90 = minimize(quantile_loss_y1(0.90), [1.5,0]).x\n",
    "m2_q10, b2_q10 = minimize(quantile_loss_y2(0.10), [1.5,0]).x\n",
    "m2_q90, b2_q90 = minimize(quantile_loss_y2(0.90), [1.5,0]).x\n",
    "#y1\n",
    "(m1_q10, b1_q10) = (1.48, -0.55)\n",
    "(m1_q90, b1_q90) = (1.51, 0.56)\n",
    "#y2\n",
    "(m2_q10, b2_q10) = (1.43, -2.24)\n",
    "(m2_q90, b2_q90) = (1.47, 2.68)\n",
    "\n",
    "x = np.random.uniform(0,xmax,N)\n",
    "data.plot(x='x', y='y2', kind='scatter')\n",
    "plt.plot(x, m2* x + b2, color = 'r')\n",
    "plt.plot(x, m2_q10* x + b2_q10, color = 'b')\n",
    "plt.plot(x, m2_q90* x + b2_q90, color = 'b')"
   ]
  },
  {
   "cell_type": "code",
   "execution_count": 40,
   "metadata": {},
   "outputs": [
    {
     "data": {
      "text/plain": [
       "[<matplotlib.lines.Line2D at 0x1e3b4a6b4c8>]"
      ]
     },
     "execution_count": 40,
     "metadata": {},
     "output_type": "execute_result"
    },
    {
     "data": {
      "image/png": "[encoded data removed]",
      "text/plain": [
       "<Figure size 432x288 with 1 Axes>"
      ]
     },
     "metadata": {
      "needs_background": "light"
     },
     "output_type": "display_data"
    }
   ],
   "source": [
    "# tutorial from: https://medium.com/data-shopify/how-shopify-capital-uses-quantile-regression-to-help-merchants-succeed-10ee1b36b17d\n",
    "\n",
    "data.plot(x='x', y='y1', kind='scatter')\n",
    "plt.plot(x, m1* x + b1, color = 'r')\n",
    "plt.plot(x, m1_q10* x + b1_q10, color = 'b')\n",
    "plt.plot(x, m1_q90* x + b1_q90, color = 'b')"
   ]
  },
  {
   "cell_type": "code",
   "execution_count": 41,
   "metadata": {},
   "outputs": [
    {
     "data": {
      "text/html": [
       "<div>\n",
       "<style scoped>\n",
       "    .dataframe tbody tr th:only-of-type {\n",
       "        vertical-align: middle;\n",
       "    }\n",
       "\n",
       "    .dataframe tbody tr th {\n",
       "        vertical-align: top;\n",
       "    }\n",
       "\n",
       "    .dataframe thead th {\n",
       "        text-align: right;\n",
       "    }\n",
       "</style>\n",
       "<table border=\"1\" class=\"dataframe\">\n",
       "  <thead>\n",
       "    <tr style=\"text-align: right;\">\n",
       "      <th></th>\n",
       "      <th>y_predicted</th>\n",
       "      <th>y_true</th>\n",
       "    </tr>\n",
       "  </thead>\n",
       "  <tbody>\n",
       "    <tr>\n",
       "      <th>2312</th>\n",
       "      <td>5.000000</td>\n",
       "      <td>5</td>\n",
       "    </tr>\n",
       "    <tr>\n",
       "      <th>1634</th>\n",
       "      <td>5.000000</td>\n",
       "      <td>6</td>\n",
       "    </tr>\n",
       "    <tr>\n",
       "      <th>3220</th>\n",
       "      <td>4.875596</td>\n",
       "      <td>5</td>\n",
       "    </tr>\n",
       "    <tr>\n",
       "      <th>1837</th>\n",
       "      <td>5.027104</td>\n",
       "      <td>7</td>\n",
       "    </tr>\n",
       "    <tr>\n",
       "      <th>680</th>\n",
       "      <td>4.994433</td>\n",
       "      <td>5</td>\n",
       "    </tr>\n",
       "  </tbody>\n",
       "</table>\n",
       "</div>"
      ],
      "text/plain": [
       "      y_predicted  y_true\n",
       "2312     5.000000       5\n",
       "1634     5.000000       6\n",
       "3220     4.875596       5\n",
       "1837     5.027104       7\n",
       "680      4.994433       5"
      ]
     },
     "execution_count": 41,
     "metadata": {},
     "output_type": "execute_result"
    }
   ],
   "source": [
    "# tutorial from: https://medium.com/data-shopify/how-shopify-capital-uses-quantile-regression-to-help-merchants-succeed-10ee1b36b17d\n",
    "\n",
    "#  I only want to over-estimate a wine’s quality 10% of the time. \n",
    "\n",
    "df = pd.read_csv('http://archive.ics.uci.edu/ml/machine-learning-databases/wine-quality/winequality-white.csv', sep=';')\n",
    "from sklearn.model_selection import train_test_split\n",
    "X, y = df.drop(['quality'], axis=1), df['quality']\n",
    "X_train, X_test, y_train, y_test = train_test_split(X, y, test_size=0.2)\n",
    "from sklearn.ensemble import GradientBoostingRegressor\n",
    "def train_model(quantile):\n",
    "    params = {\n",
    "        'n_estimators': 2000,\n",
    "        'max_depth': 6,\n",
    "        'min_samples_split': 5,\n",
    "        'learning_rate': 0.01,\n",
    "        'loss': 'quantile',\n",
    "        'alpha': quantile,\n",
    "        'random_state': 42\n",
    "     }\n",
    "    regressor = GradientBoostingRegressor(**params)\n",
    "    return regressor.fit(X_train, y_train)\n",
    "model = train_model(0.1) # this might take a little while\n",
    "results = pd.DataFrame({'y_predicted': model.predict(X_test), 'y_true': y_test})\n",
    "results.head()"
   ]
  },
  {
   "cell_type": "code",
   "execution_count": 43,
   "metadata": {},
   "outputs": [],
   "source": [
    "# tutorial from: https://medium.com/data-shopify/how-shopify-capital-uses-quantile-regression-to-help-merchants-succeed-10ee1b36b17d\n",
    "\n",
    "true_lt_predicted = (results['y_true'] < results['y_predicted']).astype(int)\n",
    "(true_lt_predicted.sum() * 1.0)/true_lt_predicted.count()\n",
    "\n",
    "def test_quantile(model):\n",
    "    results = pd.DataFrame({'y_predicted': model.predict(X_test), 'y_true': y_test})\n",
    "    true_lt_predicted = (results['y_true'] < results['y_predicted']).astype(int)\n",
    "    return (true_lt_predicted.sum()*1.0)/true_lt_predicted.count() \n",
    "quantile_pairs = []\n",
    "# it will take a few minutes to train all of these models maybe grab another coffee while this runs :)\n",
    "for q in np.linspace(0.05,0.95,19):\n",
    "    model = train_model(q)\n",
    "    pq = test_quantile(model)\n",
    "    quantile_pairs.append((q, pq))"
   ]
  },
  {
   "cell_type": "code",
   "execution_count": 45,
   "metadata": {},
   "outputs": [
    {
     "data": {
      "text/plain": [
       "0.09387755102040816"
      ]
     },
     "execution_count": 45,
     "metadata": {},
     "output_type": "execute_result"
    }
   ],
   "source": [
    "# tutorial from: https://medium.com/data-shopify/how-shopify-capital-uses-quantile-regression-to-help-merchants-succeed-10ee1b36b17d\n",
    "\n",
    "(true_lt_predicted.sum() * 1.0)/true_lt_predicted.count()\n",
    "# I will over-estimate the quality of the wine 9.3% of the time"
   ]
  },
  {
   "cell_type": "code",
   "execution_count": 62,
   "metadata": {},
   "outputs": [
    {
     "data": {
      "text/plain": [
       "(0.0, 1.5)"
      ]
     },
     "execution_count": 62,
     "metadata": {},
     "output_type": "execute_result"
    },
    {
     "data": {
      "image/png": "[encoded data removed]",
      "text/plain": [
       "<Figure size 432x288 with 1 Axes>"
      ]
     },
     "metadata": {
      "needs_background": "light"
     },
     "output_type": "display_data"
    }
   ],
   "source": [
    "# tutorial from: https://medium.com/data-shopify/how-shopify-capital-uses-quantile-regression-to-help-merchants-succeed-10ee1b36b17d\n",
    "\n",
    "# plot quantile pairs\n",
    "x = []\n",
    "y = []\n",
    "for i in quantile_pairs:\n",
    "    xs = i[0]\n",
    "    ys = i[1]\n",
    "    x.append(xs)\n",
    "    y.append(ys)\n",
    "plt.scatter(x,y)\n",
    "\n",
    "x = np.random.uniform(0,xmax,N)\n",
    "plt.plot(x, m2* x + b2, color = 'r')\n",
    "plt.xlim(0,1)\n",
    "plt.ylim(0,1.5)"
   ]
  },
  {
   "cell_type": "code",
   "execution_count": 47,
   "metadata": {},
   "outputs": [
    {
     "data": {
      "text/plain": [
       "array([0.05, 0.1 , 0.15, 0.2 , 0.25, 0.3 , 0.35, 0.4 , 0.45, 0.5 , 0.55,\n",
       "       0.6 , 0.65, 0.7 , 0.75, 0.8 , 0.85, 0.9 , 0.95])"
      ]
     },
     "execution_count": 47,
     "metadata": {},
     "output_type": "execute_result"
    }
   ],
   "source": [
    "# tutorial from: https://medium.com/data-shopify/how-shopify-capital-uses-quantile-regression-to-help-merchants-succeed-10ee1b36b17d\n",
    "\n",
    "np.linspace(0.05,0.95,19)"
   ]
  },
  {
   "cell_type": "code",
   "execution_count": null,
   "metadata": {},
   "outputs": [],
   "source": []
  }
 ],
 "metadata": {
  "kernelspec": {
   "display_name": "KaggleKernel",
   "language": "python",
   "name": "kagglekernel"
  },
  "language_info": {
   "codemirror_mode": {
    "name": "ipython",
    "version": 3
   },
   "file_extension": ".py",
   "mimetype": "text/x-python",
   "name": "python",
   "nbconvert_exporter": "python",
   "pygments_lexer": "ipython3",
   "version": "3.7.4"
  }
 },
 "nbformat": 4,
 "nbformat_minor": 4
}

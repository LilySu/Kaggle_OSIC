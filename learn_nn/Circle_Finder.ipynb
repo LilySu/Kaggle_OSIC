{
  "nbformat": 4,
  "nbformat_minor": 0,
  "metadata": {
    "colab": {
      "name": "Circle_Finder.ipynb",
      "provenance": [],
      "include_colab_link": true
    },
    "kernelspec": {
      "name": "python3",
      "display_name": "Python 3"
    }
  },
  "cells": [
    {
      "cell_type": "markdown",
      "metadata": {
        "id": "view-in-github",
        "colab_type": "text"
      },
      "source": [
        "<a href=\"https://colab.research.google.com/github/LilySu/Kaggle_OSIC/blob/master/learn_nn/Circle_Finder.ipynb\" target=\"_parent\"><img src=\"https://colab.research.google.com/assets/colab-badge.svg\" alt=\"Open In Colab\"/></a>"
      ]
    },
    {
      "cell_type": "code",
      "metadata": {
        "id": "SbTYm8kvfCOo",
        "colab_type": "code",
        "colab": {}
      },
      "source": [
        "import cv2\n",
        "import numpy as np\n",
        "import matplotlib.pyplot as plt\n",
        "import random;\n",
        "import tqdm;"
      ],
      "execution_count": 6,
      "outputs": []
    },
    {
      "cell_type": "code",
      "metadata": {
        "id": "5pUiMR3Lgcnt",
        "colab_type": "code",
        "colab": {
          "base_uri": "https://localhost:8080/",
          "height": 269
        },
        "outputId": "84b8b177-7c96-454c-b74f-3d1ede461118"
      },
      "source": [
        "IMAGE_SIZE = 200;\n",
        "rad = random.randint(5,50);\n",
        "c_x = random.randint(rad,IMAGE_SIZE-rad);\n",
        "c_y = random.randint(rad,IMAGE_SIZE-rad);\n",
        "blank_image = np.ones(shape=[IMAGE_SIZE, IMAGE_SIZE], dtype=np.uint8)\n",
        "cv2.circle(blank_image, (c_x,c_y), rad, 0, -1);\n",
        "plt.imshow(blank_image);"
      ],
      "execution_count": 7,
      "outputs": [
        {
          "output_type": "display_data",
          "data": {
            "image/png": "[encoded data removed]",
            "text/plain": [
              "<Figure size 432x288 with 1 Axes>"
            ]
          },
          "metadata": {
            "tags": [],
            "needs_background": "light"
          }
        }
      ]
    },
    {
      "cell_type": "code",
      "metadata": {
        "id": "lcE-YsgNhCsO",
        "colab_type": "code",
        "colab": {}
      },
      "source": [
        "def create_training_Data():\n",
        "  l = 10000;\n",
        "  X_train = np.zeros(shape=[l,IMAGE_SIZE, IMAGE_SIZE,1]);\n",
        "  Y_train = np.zeros(shape = [l,3]);\n",
        "  for i in range(l):\n",
        "    rad = random.randint(5,50);\n",
        "    c_x = random.randint(rad,IMAGE_SIZE-rad);\n",
        "    c_y = random.randint(rad,IMAGE_SIZE-rad);\n",
        "    Y_train[i,0]= c_x/IMAGE_SIZE;\n",
        "    Y_train[i,1] = c_y/IMAGE_SIZE;\n",
        "    Y_train[i,2] = rad/IMAGE_SIZE;\n",
        "    blank_image = np.ones(shape=[IMAGE_SIZE, IMAGE_SIZE], dtype=np.uint8);\n",
        "    X_train[i,:,:,0] = cv2.circle(blank_image, (c_x,c_y), rad, 0, -1);\n",
        "  return {'X_Train' : X_train, 'Y_Train': Y_train};\n",
        "  "
      ],
      "execution_count": 8,
      "outputs": []
    },
    {
      "cell_type": "code",
      "metadata": {
        "id": "Eju_-oQkh0zG",
        "colab_type": "code",
        "colab": {}
      },
      "source": [
        "training_Data = create_training_Data();"
      ],
      "execution_count": 9,
      "outputs": []
    },
    {
      "cell_type": "code",
      "metadata": {
        "id": "n7u2vq6Oinm_",
        "colab_type": "code",
        "colab": {
          "base_uri": "https://localhost:8080/",
          "height": 286
        },
        "outputId": "4145888d-6417-48d9-d428-d701632493f8"
      },
      "source": [
        "plt.imshow(training_Data['X_Train'][1999].reshape(200,200))\n",
        "IMAGE_SIZE*training_Data['Y_Train'][1999]"
      ],
      "execution_count": 10,
      "outputs": [
        {
          "output_type": "execute_result",
          "data": {
            "text/plain": [
              "array([160., 107.,  27.])"
            ]
          },
          "metadata": {
            "tags": []
          },
          "execution_count": 10
        },
        {
          "output_type": "display_data",
          "data": {
            "image/png": "[encoded data removed]",
            "text/plain": [
              "<Figure size 432x288 with 1 Axes>"
            ]
          },
          "metadata": {
            "tags": [],
            "needs_background": "light"
          }
        }
      ]
    },
    {
      "cell_type": "code",
      "metadata": {
        "id": "xfAsy0RRA34t",
        "colab_type": "code",
        "colab": {}
      },
      "source": [
        "# ! pip install tensorflow==1.15.2"
      ],
      "execution_count": 11,
      "outputs": []
    },
    {
      "cell_type": "code",
      "metadata": {
        "id": "4sloU1LVBQ6Q",
        "colab_type": "code",
        "colab": {}
      },
      "source": [
        "# import tensorflow\n",
        "# print(tensorflow.__version__)"
      ],
      "execution_count": 12,
      "outputs": []
    },
    {
      "cell_type": "code",
      "metadata": {
        "id": "0-tO8xmui4Pm",
        "colab_type": "code",
        "colab": {}
      },
      "source": [
        "import tensorflow;\n",
        "from tensorflow.keras import layers;\n",
        "from tensorflow.keras import Model;"
      ],
      "execution_count": 13,
      "outputs": []
    },
    {
      "cell_type": "code",
      "metadata": {
        "id": "8-BiGG5Mjw9n",
        "colab_type": "code",
        "colab": {
          "base_uri": "https://localhost:8080/",
          "height": 535
        },
        "outputId": "7a98a2ed-bd87-4a47-8ae3-1ff9fb928f68"
      },
      "source": [
        "img_input = layers.Input(shape=(IMAGE_SIZE, IMAGE_SIZE, 1))\n",
        "x = layers.Conv2D(5, 3, activation='relu', strides = 1, padding = 'same')(img_input) # 5x5x1 kernels \n",
        "x = layers.MaxPool2D(pool_size=2)(x) # halves the image 100x100x5\n",
        "x = layers.Conv2D(10, 3, activation='relu', strides = 2)(x) # 100x100x10\n",
        "x = layers.MaxPool2D(pool_size=2)(x) # 50x50x10\n",
        "x = layers.Conv2D(20, 3, activation='relu', strides = 2)(x) # 25 x 25 x 10\n",
        "x = layers.MaxPool2D(pool_size=2)(x) # 25 x 25 x 20\n",
        "x = layers.Conv2D(3, 5, activation='relu', strides = 2)(x) # 11 x 11 x 20\n",
        "output = layers.Flatten()(x) # 1x1x3 output\n",
        "model = Model(img_input, output)\n",
        "model.summary()"
      ],
      "execution_count": 14,
      "outputs": [
        {
          "output_type": "stream",
          "text": [
            "WARNING:tensorflow:From /usr/local/lib/python3.6/dist-packages/tensorflow_core/python/ops/resource_variable_ops.py:1630: calling BaseResourceVariable.__init__ (from tensorflow.python.ops.resource_variable_ops) with constraint is deprecated and will be removed in a future version.\n",
            "Instructions for updating:\n",
            "If using Keras pass *_constraint arguments to layers.\n",
            "Model: \"model\"\n",
            "_________________________________________________________________\n",
            "Layer (type)                 Output Shape              Param #   \n",
            "=================================================================\n",
            "input_1 (InputLayer)         [(None, 200, 200, 1)]     0         \n",
            "_________________________________________________________________\n",
            "conv2d (Conv2D)              (None, 200, 200, 5)       50        \n",
            "_________________________________________________________________\n",
            "max_pooling2d (MaxPooling2D) (None, 100, 100, 5)       0         \n",
            "_________________________________________________________________\n",
            "conv2d_1 (Conv2D)            (None, 49, 49, 10)        460       \n",
            "_________________________________________________________________\n",
            "max_pooling2d_1 (MaxPooling2 (None, 24, 24, 10)        0         \n",
            "_________________________________________________________________\n",
            "conv2d_2 (Conv2D)            (None, 11, 11, 20)        1820      \n",
            "_________________________________________________________________\n",
            "max_pooling2d_2 (MaxPooling2 (None, 5, 5, 20)          0         \n",
            "_________________________________________________________________\n",
            "conv2d_3 (Conv2D)            (None, 1, 1, 3)           1503      \n",
            "_________________________________________________________________\n",
            "flatten (Flatten)            (None, 3)                 0         \n",
            "=================================================================\n",
            "Total params: 3,833\n",
            "Trainable params: 3,833\n",
            "Non-trainable params: 0\n",
            "_________________________________________________________________\n"
          ],
          "name": "stdout"
        }
      ]
    },
    {
      "cell_type": "code",
      "metadata": {
        "id": "sp_FNlP3k8Dx",
        "colab_type": "code",
        "colab": {}
      },
      "source": [
        "model.compile(loss='mean_squared_error',optimizer= 'adam', metrics=['mse']);"
      ],
      "execution_count": 15,
      "outputs": []
    },
    {
      "cell_type": "code",
      "metadata": {
        "id": "CQVCkUS-lkOv",
        "colab_type": "code",
        "colab": {
          "base_uri": "https://localhost:8080/",
          "height": 174
        },
        "outputId": "f2ce98fc-16ea-4cd2-989d-43133955c0fe"
      },
      "source": [
        "model.fit(training_Data[\"X_Train\"],training_Data[\"Y_Train\"], epochs = 3,verbose=1)"
      ],
      "execution_count": 17,
      "outputs": [
        {
          "output_type": "stream",
          "text": [
            "Train on 10000 samples\n",
            "Epoch 1/3\n",
            "10000/10000 [==============================] - 120s 12ms/sample - loss: 0.0116 - mean_squared_error: 0.0116\n",
            "Epoch 2/3\n",
            "10000/10000 [==============================] - 120s 12ms/sample - loss: 0.0068 - mean_squared_error: 0.0068\n",
            "Epoch 3/3\n",
            "10000/10000 [==============================] - 121s 12ms/sample - loss: 0.0056 - mean_squared_error: 0.0056\n"
          ],
          "name": "stdout"
        },
        {
          "output_type": "execute_result",
          "data": {
            "text/plain": [
              "<tensorflow.python.keras.callbacks.History at 0x7f889ae40240>"
            ]
          },
          "metadata": {
            "tags": []
          },
          "execution_count": 17
        }
      ]
    },
    {
      "cell_type": "code",
      "metadata": {
        "id": "N9f-u1PGlpuG",
        "colab_type": "code",
        "colab": {
          "base_uri": "https://localhost:8080/",
          "height": 34
        },
        "outputId": "d3c4702d-1deb-4aaf-9b37-55026dbaba39"
      },
      "source": [
        "IMAGE_SIZE*model.predict(training_Data['X_Train'][2].reshape(1,IMAGE_SIZE, IMAGE_SIZE,1))"
      ],
      "execution_count": 18,
      "outputs": [
        {
          "output_type": "execute_result",
          "data": {
            "text/plain": [
              "array([[151.26138 ,  87.709045,  35.066383]], dtype=float32)"
            ]
          },
          "metadata": {
            "tags": []
          },
          "execution_count": 18
        }
      ]
    },
    {
      "cell_type": "code",
      "metadata": {
        "id": "is7rdvBQnBDm",
        "colab_type": "code",
        "colab": {
          "base_uri": "https://localhost:8080/",
          "height": 34
        },
        "outputId": "8ff688a0-d2a8-4ec7-b2cb-fb9b2d703b16"
      },
      "source": [
        "IMAGE_SIZE*training_Data['Y_Train'][2]"
      ],
      "execution_count": 19,
      "outputs": [
        {
          "output_type": "execute_result",
          "data": {
            "text/plain": [
              "array([136.,  96.,  27.])"
            ]
          },
          "metadata": {
            "tags": []
          },
          "execution_count": 19
        }
      ]
    },
    {
      "cell_type": "code",
      "metadata": {
        "id": "3vi73zk1nH2u",
        "colab_type": "code",
        "colab": {
          "base_uri": "https://localhost:8080/",
          "height": 286
        },
        "outputId": "86318496-f84e-4c39-a6ae-84dc049ac208"
      },
      "source": [
        "plt.imshow(training_Data['X_Train'][2].reshape(200,200))"
      ],
      "execution_count": 20,
      "outputs": [
        {
          "output_type": "execute_result",
          "data": {
            "text/plain": [
              "<matplotlib.image.AxesImage at 0x7f8891a0dd30>"
            ]
          },
          "metadata": {
            "tags": []
          },
          "execution_count": 20
        },
        {
          "output_type": "display_data",
          "data": {
            "image/png": "[encoded data removed]",
            "text/plain": [
              "<Figure size 432x288 with 1 Axes>"
            ]
          },
          "metadata": {
            "tags": [],
            "needs_background": "light"
          }
        }
      ]
    },
    {
      "cell_type": "code",
      "metadata": {
        "id": "iOe5juP7nRCu",
        "colab_type": "code",
        "colab": {
          "base_uri": "https://localhost:8080/",
          "height": 303
        },
        "outputId": "4cb10ffe-b79b-439f-c9ab-19c851ee47c0"
      },
      "source": [
        "#Generate new image and predict\n",
        "\n",
        "IMAGE_SIZE = 200;\n",
        "rad = random.randint(5,50);\n",
        "c_x = random.randint(rad,IMAGE_SIZE-rad);\n",
        "c_y = random.randint(rad,IMAGE_SIZE-rad);\n",
        "print([c_x, c_y, rad])\n",
        "blank_image = np.ones(shape=[IMAGE_SIZE, IMAGE_SIZE], dtype=np.uint8)\n",
        "new_Image = cv2.circle(blank_image, (c_x,c_y), rad, 0, -1);\n",
        "plt.imshow(new_Image);\n",
        "print(IMAGE_SIZE*model.predict(new_Image.reshape(1,IMAGE_SIZE, IMAGE_SIZE,1)))"
      ],
      "execution_count": 21,
      "outputs": [
        {
          "output_type": "stream",
          "text": [
            "[67, 89, 25]\n",
            "[[79.16998  95.54687  23.971134]]\n"
          ],
          "name": "stdout"
        },
        {
          "output_type": "display_data",
          "data": {
            "image/png": "[encoded data removed]",
            "text/plain": [
              "<Figure size 432x288 with 1 Axes>"
            ]
          },
          "metadata": {
            "tags": [],
            "needs_background": "light"
          }
        }
      ]
    },
    {
      "cell_type": "code",
      "metadata": {
        "id": "aWmdUiSAnfDO",
        "colab_type": "code",
        "colab": {}
      },
      "source": [
        ""
      ],
      "execution_count": 21,
      "outputs": []
    }
  ]
}